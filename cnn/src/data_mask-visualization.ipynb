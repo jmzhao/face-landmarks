{
 "cells": [
  {
   "cell_type": "code",
   "execution_count": 4,
   "metadata": {
    "collapsed": false
   },
   "outputs": [],
   "source": [
    "# load model\n",
    "model_filename = '../model/all(ratio-0.8,rand-1337),masked,20px,500ep'\n",
    "import keras.models\n",
    "model2 = keras.models.model_from_json(open(model_filename+'.json').read())\n",
    "model2.load_weights(model_filename+'.weight')\n",
    "model2.compile(loss='mse',\n",
    "              optimizer='adadelta',\n",
    "              metrics=['accuracy'])"
   ]
  },
  {
   "cell_type": "code",
   "execution_count": 5,
   "metadata": {
    "collapsed": false
   },
   "outputs": [],
   "source": [
    "model = model2"
   ]
  },
  {
   "cell_type": "code",
   "execution_count": null,
   "metadata": {
    "collapsed": true
   },
   "outputs": [],
   "source": [
    "from keras import backend as K\n",
    "mask_outputs = K.function(\n",
    "        [model.layers[0].input, K.learning_phase()],\n",
    "        [mask_layer.output for mask_layer in model.layers[14:15]])"
   ]
  },
  {
   "cell_type": "code",
   "execution_count": null,
   "metadata": {
    "collapsed": false
   },
   "outputs": [],
   "source": [
    "o = mask_outputs([X, 1])"
   ]
  },
  {
   "cell_type": "code",
   "execution_count": null,
   "metadata": {
    "collapsed": false
   },
   "outputs": [],
   "source": [
    "import matplotlib.pyplot as plt\n",
    "import skimage"
   ]
  },
  {
   "cell_type": "code",
   "execution_count": 34,
   "metadata": {
    "collapsed": false
   },
   "outputs": [],
   "source": [
    "%matplotlib qt\n",
    "import random\n",
    "random.seed(1337)\n",
    "l = random.sample(range(len(o[0])), 30)\n",
    "for i_mask in range(1) :\n",
    "    plt.figure()\n",
    "    for iplt, i in enumerate(l) :\n",
    "        plt.subplot(5, 6, iplt+1)\n",
    "        img_gray = skimage.color.rgb2gray(X[i].transpose((1,2,0)))\n",
    "        img = skimage.color.gray2rgb(img_gray) \n",
    "        img[:,:,0] += o[i_mask][i] \n",
    "        #img = np.array([X[i][0], o[i_mask][i].reshape((20,20)), np.zeros((20, 20))]).transpose((1,2,0))\n",
    "        plt.imshow(img)\n",
    "        plt.axis('off')\n",
    "    plt.tight_layout()\n",
    "for i_mask in range(1) :\n",
    "    plt.figure()\n",
    "    for iplt, i in enumerate(l) :\n",
    "        plt.subplot(5, 6, iplt+1)\n",
    "        img = (X[i].transpose((1,2,0)))\n",
    "        #img = np.array([X[i][0], o[i_mask][i].reshape((20,20)), np.zeros((20, 20))]).transpose((1,2,0))\n",
    "        plt.imshow(img)\n",
    "        plt.axis('off')\n",
    "    plt.tight_layout()\n",
    "for i_mask in range(1) :\n",
    "    plt.figure()\n",
    "    for iplt, i in enumerate(l) :\n",
    "        plt.subplot(5, 6, iplt+1)\n",
    "        img = (X[i] * o[i_mask][i]).transpose((1,2,0))\n",
    "        #img = np.array([X[i][0], o[i_mask][i].reshape((20,20)), np.zeros((20, 20))]).transpose((1,2,0))\n",
    "        plt.imshow(img)\n",
    "        plt.axis('off')\n",
    "    plt.tight_layout()\n",
    "plt.show()"
   ]
  },
  {
   "cell_type": "code",
   "execution_count": 30,
   "metadata": {
    "collapsed": false,
    "scrolled": true
   },
   "outputs": [
    {
     "data": {
      "text/plain": [
       "array([[ 0.48580676,  0.47378853,  0.38934863,  0.49258792,  0.29257366,\n",
       "         0.37347651,  0.40898731,  0.35806665,  0.29450881,  0.38455933,\n",
       "         0.30689245,  0.44075871,  0.30988535,  0.35616174,  0.40702903,\n",
       "         0.57216716,  0.40202883,  0.47020945,  0.52247232,  0.47748232],\n",
       "       [ 0.4439714 ,  0.50495028,  0.43332878,  0.38601211,  0.30737537,\n",
       "         0.38371819,  0.21083879,  0.33395195,  0.3351205 ,  0.22487199,\n",
       "         0.42721716,  0.38100213,  0.25512132,  0.20400687,  0.32794723,\n",
       "         0.45835412,  0.44921738,  0.48388371,  0.58532101,  0.56325698],\n",
       "       [ 0.59550411,  0.38634163,  0.26146728,  0.24976556,  0.2905201 ,\n",
       "         0.23403688,  0.31092209,  0.28395233,  0.23951192,  0.3267445 ,\n",
       "         0.22888021,  0.51732278,  0.26365703,  0.31493247,  0.23208538,\n",
       "         0.35913938,  0.34743434,  0.57677555,  0.56807965,  0.45341131],\n",
       "       [ 0.49673268,  0.44433314,  0.49659202,  0.35655534,  0.31453371,\n",
       "         0.27969974,  0.28431255,  0.36846104,  0.23862472,  0.33937797,\n",
       "         0.31051102,  0.24060547,  0.36739972,  0.29304335,  0.40335122,\n",
       "         0.36152786,  0.55034918,  0.54557812,  0.60942066,  0.58032006],\n",
       "       [ 0.51220256,  0.22343853,  0.52233642,  0.39218497,  0.34894416,\n",
       "         0.31502888,  0.38703528,  0.27185595,  0.34018201,  0.39937097,\n",
       "         0.39687094,  0.29561609,  0.29057449,  0.39809763,  0.41406077,\n",
       "         0.39629957,  0.38581738,  0.37725884,  0.5103175 ,  0.63823825],\n",
       "       [ 0.55443376,  0.41468203,  0.54617   ,  0.46942484,  0.34470618,\n",
       "         0.28486872,  0.2470898 ,  0.38689649,  0.33333325,  0.36386535,\n",
       "         0.27971667,  0.25110734,  0.37809217,  0.27765906,  0.29125005,\n",
       "         0.36755842,  0.43287033,  0.40214747,  0.45908737,  0.63999671],\n",
       "       [ 0.34162974,  0.30110106,  0.44082922,  0.4325648 ,  0.17655019,\n",
       "         0.42509285,  0.21270779,  0.30827227,  0.3210862 ,  0.31815958,\n",
       "         0.23964247,  0.4232423 ,  0.25451502,  0.28290266,  0.28940871,\n",
       "         0.3032859 ,  0.50558674,  0.45545635,  0.48969787,  0.38019517],\n",
       "       [ 0.44894704,  0.40722796,  0.47218993,  0.33085582,  0.25403765,\n",
       "         0.40969914,  0.28853413,  0.32489905,  0.31527334,  0.37229371,\n",
       "         0.22359456,  0.29370898,  0.33044288,  0.22728984,  0.24858643,\n",
       "         0.29512277,  0.52332735,  0.42953897,  0.51664746,  0.38549909],\n",
       "       [ 0.41342834,  0.46915108,  0.25748324,  0.14095105,  0.39526412,\n",
       "         0.34264004,  0.14115226,  0.37464786,  0.47950128,  0.41923639,\n",
       "         0.20361543,  0.24757142,  0.33547556,  0.26081538,  0.2736575 ,\n",
       "         0.40878999,  0.41891551,  0.28964958,  0.60881335,  0.49091211],\n",
       "       [ 0.54568958,  0.4899129 ,  0.3731558 ,  0.2077049 ,  0.15595853,\n",
       "         0.2367736 ,  0.34930074,  0.26263395,  0.15163757,  0.22366668,\n",
       "         0.23686467,  0.31371647,  0.25048783,  0.20194951,  0.19700152,\n",
       "         0.27816799,  0.43337452,  0.28923574,  0.47190648,  0.55657142],\n",
       "       [ 0.38678446,  0.39837697,  0.48351678,  0.28558192,  0.29922235,\n",
       "         0.32090023,  0.28148365,  0.29177633,  0.51066023,  0.30209243,\n",
       "         0.30497614,  0.48280531,  0.34451389,  0.23944166,  0.20429911,\n",
       "         0.36966333,  0.23975515,  0.3713738 ,  0.60655034,  0.52402127],\n",
       "       [ 0.38502812,  0.49949327,  0.4349052 ,  0.31047514,  0.34612924,\n",
       "         0.29051164,  0.36543185,  0.34821877,  0.30213305,  0.27292004,\n",
       "         0.26770428,  0.25337434,  0.12081073,  0.35031191,  0.28645658,\n",
       "         0.36034197,  0.44750398,  0.45244768,  0.41451368,  0.56370437],\n",
       "       [ 0.50214928,  0.43111181,  0.42176774,  0.48691598,  0.34742129,\n",
       "         0.44222492,  0.40907001,  0.29485103,  0.35619721,  0.3622109 ,\n",
       "         0.2436496 ,  0.36803234,  0.24062699,  0.15920147,  0.36658815,\n",
       "         0.31828222,  0.4218502 ,  0.4645693 ,  0.42688087,  0.55087888],\n",
       "       [ 0.50923342,  0.37526062,  0.45544112,  0.46276921,  0.30669746,\n",
       "         0.36460376,  0.45497179,  0.34107837,  0.26755509,  0.35419306,\n",
       "         0.21231271,  0.24844646,  0.20019148,  0.25602549,  0.30432817,\n",
       "         0.36028731,  0.41626859,  0.41358086,  0.58174533,  0.59669864],\n",
       "       [ 0.47958505,  0.3846688 ,  0.41897413,  0.49525014,  0.33523911,\n",
       "         0.3565453 ,  0.31730956,  0.42708677,  0.31510898,  0.31795418,\n",
       "         0.33620015,  0.2708019 ,  0.38747928,  0.39585838,  0.45299709,\n",
       "         0.47197065,  0.5065645 ,  0.38776261,  0.44068846,  0.5086894 ],\n",
       "       [ 0.3973082 ,  0.65536141,  0.3477793 ,  0.49267131,  0.35642278,\n",
       "         0.30170849,  0.53910887,  0.35389039,  0.18335685,  0.45467883,\n",
       "         0.33991799,  0.51661694,  0.54327726,  0.33642155,  0.35081908,\n",
       "         0.41026548,  0.59564513,  0.55121541,  0.52410048,  0.51864147],\n",
       "       [ 0.40673962,  0.58940792,  0.50812978,  0.42975447,  0.59225464,\n",
       "         0.49067596,  0.24075076,  0.39564535,  0.41491511,  0.46499786,\n",
       "         0.29605839,  0.55489188,  0.4888579 ,  0.38575935,  0.43503663,\n",
       "         0.52988088,  0.33776295,  0.53352123,  0.43229547,  0.4848097 ],\n",
       "       [ 0.45834079,  0.52425325,  0.56512791,  0.50761241,  0.4080146 ,\n",
       "         0.51560402,  0.43913811,  0.42111111,  0.4403969 ,  0.58113903,\n",
       "         0.40025228,  0.44348958,  0.44030485,  0.49406901,  0.65344417,\n",
       "         0.48053178,  0.36320573,  0.59589005,  0.33165079,  0.50450051],\n",
       "       [ 0.50113797,  0.4437604 ,  0.5344547 ,  0.50130922,  0.55328017,\n",
       "         0.65336955,  0.63382852,  0.52026188,  0.52802783,  0.42137307,\n",
       "         0.57153982,  0.44370854,  0.52499819,  0.48379564,  0.63068634,\n",
       "         0.55569106,  0.47163495,  0.59046847,  0.57870197,  0.53726751],\n",
       "       [ 0.54988837,  0.47101539,  0.55948049,  0.61257237,  0.47297037,\n",
       "         0.63826531,  0.43819395,  0.54442215,  0.5138644 ,  0.45766437,\n",
       "         0.39275911,  0.51732504,  0.49135873,  0.49240017,  0.57741404,\n",
       "         0.52387345,  0.58039057,  0.47492072,  0.60115319,  0.54591382]], dtype=float32)"
      ]
     },
     "execution_count": 30,
     "metadata": {},
     "output_type": "execute_result"
    }
   ],
   "source": [
    "o[0][3]"
   ]
  },
  {
   "cell_type": "code",
   "execution_count": 6,
   "metadata": {
    "collapsed": false
   },
   "outputs": [
    {
     "data": {
      "text/plain": [
       "[<keras.engine.topology.InputLayer at 0x1648b940>,\n",
       " <keras.layers.convolutional.Convolution2D at 0x1648ba58>,\n",
       " <keras.layers.core.Activation at 0x1648bac8>,\n",
       " <keras.layers.convolutional.MaxPooling2D at 0x1648f6a0>,\n",
       " <keras.layers.convolutional.Convolution2D at 0x1648f9b0>,\n",
       " <keras.layers.core.Activation at 0x1648fba8>,\n",
       " <keras.layers.convolutional.MaxPooling2D at 0x6b67b8>,\n",
       " <keras.layers.core.Dropout at 0x6b6ac8>,\n",
       " <keras.layers.core.Flatten at 0x6b6c88>,\n",
       " <keras.layers.core.Dense at 0x6c6978>,\n",
       " <keras.layers.core.Dense at 0x6bfb00>,\n",
       " <keras.layers.core.Dense at 0x6ceba8>,\n",
       " <keras.layers.core.Dense at 0x6d66d8>,\n",
       " <keras.layers.core.Dense at 0x6ce860>,\n",
       " <keras.layers.core.Activation at 0x6c61d0>,\n",
       " <keras.layers.core.Activation at 0x6dcef0>,\n",
       " <keras.layers.core.Activation at 0x6e5208>,\n",
       " <keras.layers.core.Activation at 0x6e54e0>,\n",
       " <keras.layers.core.Activation at 0x6e57b8>,\n",
       " <keras.layers.core.Reshape at 0x6e5a90>,\n",
       " <keras.layers.core.Reshape at 0x6e5d68>,\n",
       " <keras.layers.core.Reshape at 0x6ef080>,\n",
       " <keras.layers.core.Reshape at 0x6ef358>,\n",
       " <keras.layers.core.Reshape at 0x6e55c0>,\n",
       " <keras.layers.core.Flatten at 0x6e5550>,\n",
       " <keras.layers.core.Flatten at 0x6dcf60>,\n",
       " <keras.layers.core.Flatten at 0x6f4748>,\n",
       " <keras.layers.core.Flatten at 0x6fb278>,\n",
       " <keras.layers.core.Flatten at 0x704ac8>,\n",
       " <keras.layers.core.RepeatVector at 0x708748>,\n",
       " <keras.layers.core.RepeatVector at 0x711c88>,\n",
       " <keras.layers.core.RepeatVector at 0x71e0f0>,\n",
       " <keras.layers.core.RepeatVector at 0x717be0>,\n",
       " <keras.layers.core.RepeatVector at 0x72f240>,\n",
       " <keras.layers.core.Reshape at 0x72ff28>,\n",
       " <keras.layers.core.Reshape at 0x164773c8>,\n",
       " <keras.layers.core.Reshape at 0x72c2b0>,\n",
       " <keras.layers.core.Reshape at 0x73e908>,\n",
       " <keras.layers.core.Reshape at 0x73ebe0>,\n",
       " <keras.engine.topology.Merge at 0x73eeb8>,\n",
       " <keras.engine.topology.Merge at 0x16477978>,\n",
       " <keras.engine.topology.Merge at 0x16477b00>,\n",
       " <keras.engine.topology.Merge at 0x16477c50>,\n",
       " <keras.engine.topology.Merge at 0x16477da0>,\n",
       " <keras.engine.training.Model at 0x16477ef0>,\n",
       " <keras.engine.topology.Merge at 0x764e48>,\n",
       " <keras.layers.core.Dense at 0x1648b6a0>,\n",
       " <keras.layers.core.Activation at 0x7fab00>,\n",
       " <keras.layers.core.Dropout at 0x7fa6a0>,\n",
       " <keras.layers.core.Dense at 0x7fa6d8>,\n",
       " <keras.layers.core.Reshape at 0x80cb70>]"
      ]
     },
     "execution_count": 6,
     "metadata": {},
     "output_type": "execute_result"
    }
   ],
   "source": [
    "model.layers"
   ]
  },
  {
   "cell_type": "code",
   "execution_count": null,
   "metadata": {
    "collapsed": true
   },
   "outputs": [],
   "source": [
    "from face_data import *\n",
    "X, Y = data('../../../result_20/', subdirs)\n",
    "(X_train, Y_train), (X_test, Y_test) = split_data(X, Y, ratio_train=0.8, rand_seed=1337)"
   ]
  },
  {
   "cell_type": "code",
   "execution_count": null,
   "metadata": {
    "collapsed": true
   },
   "outputs": [],
   "source": []
  }
 ],
 "metadata": {
  "kernelspec": {
   "display_name": "Python 3",
   "language": "python",
   "name": "python3"
  },
  "language_info": {
   "codemirror_mode": {
    "name": "ipython",
    "version": 3
   },
   "file_extension": ".py",
   "mimetype": "text/x-python",
   "name": "python",
   "nbconvert_exporter": "python",
   "pygments_lexer": "ipython3",
   "version": "3.4.4"
  }
 },
 "nbformat": 4,
 "nbformat_minor": 0
}
