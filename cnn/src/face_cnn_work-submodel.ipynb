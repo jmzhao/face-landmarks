{
 "cells": [
  {
   "cell_type": "code",
   "execution_count": 25,
   "metadata": {
    "collapsed": false
   },
   "outputs": [
    {
     "ename": "AttributeError",
     "evalue": "'Merge' object has no attribute 'ndim'",
     "output_type": "error",
     "traceback": [
      "\u001b[1;31m---------------------------------------------------------------------------\u001b[0m",
      "\u001b[1;31mAttributeError\u001b[0m                            Traceback (most recent call last)",
      "\u001b[1;32m<ipython-input-25-adf6d8e24e38>\u001b[0m in \u001b[0;36m<module>\u001b[1;34m()\u001b[0m\n\u001b[0;32m     59\u001b[0m \u001b[1;31m#sub_output = submodel(input_img)\u001b[0m\u001b[1;33m\u001b[0m\u001b[1;33m\u001b[0m\u001b[0m\n\u001b[0;32m     60\u001b[0m \u001b[0msub_output\u001b[0m \u001b[1;33m=\u001b[0m \u001b[0mMerge\u001b[0m\u001b[1;33m(\u001b[0m\u001b[1;33m[\u001b[0m\u001b[0ms1\u001b[0m\u001b[1;33m,\u001b[0m\u001b[0ms2\u001b[0m\u001b[1;33m,\u001b[0m\u001b[0ms3\u001b[0m\u001b[1;33m]\u001b[0m\u001b[1;33m,\u001b[0m \u001b[0mmode\u001b[0m\u001b[1;33m=\u001b[0m\u001b[1;34m'concat'\u001b[0m\u001b[1;33m,\u001b[0m \u001b[0moutput_shape\u001b[0m\u001b[1;33m=\u001b[0m\u001b[1;33m(\u001b[0m\u001b[0mnb_landmarks\u001b[0m \u001b[1;33m*\u001b[0m \u001b[1;36m2\u001b[0m \u001b[1;33m*\u001b[0m \u001b[0mnb_submodels\u001b[0m\u001b[1;33m,\u001b[0m\u001b[1;33m)\u001b[0m\u001b[1;33m)\u001b[0m\u001b[1;33m\u001b[0m\u001b[0m\n\u001b[1;32m---> 61\u001b[1;33m \u001b[0moutput\u001b[0m \u001b[1;33m=\u001b[0m \u001b[0mDense\u001b[0m\u001b[1;33m(\u001b[0m\u001b[0mnb_landmarks\u001b[0m \u001b[1;33m*\u001b[0m \u001b[1;36m2\u001b[0m\u001b[1;33m)\u001b[0m\u001b[1;33m(\u001b[0m\u001b[0msub_output\u001b[0m\u001b[1;33m)\u001b[0m\u001b[1;33m\u001b[0m\u001b[0m\n\u001b[0m\u001b[0;32m     62\u001b[0m \u001b[0moutput\u001b[0m \u001b[1;33m=\u001b[0m \u001b[0mReshape\u001b[0m\u001b[1;33m(\u001b[0m\u001b[1;33m(\u001b[0m\u001b[0mnb_landmarks\u001b[0m\u001b[1;33m,\u001b[0m \u001b[1;36m2\u001b[0m\u001b[1;33m)\u001b[0m\u001b[1;33m)\u001b[0m\u001b[1;33m(\u001b[0m\u001b[0moutput\u001b[0m\u001b[1;33m)\u001b[0m\u001b[1;33m\u001b[0m\u001b[0m\n\u001b[0;32m     63\u001b[0m \u001b[1;33m\u001b[0m\u001b[0m\n",
      "\u001b[1;32mC:\\Anaconda3\\envs\\cnn\\lib\\site-packages\\keras\\engine\\topology.py\u001b[0m in \u001b[0;36m__call__\u001b[1;34m(self, x, mask)\u001b[0m\n\u001b[0;32m    439\u001b[0m             \u001b[1;31m# raise exceptions in case the input is not compatible\u001b[0m\u001b[1;33m\u001b[0m\u001b[1;33m\u001b[0m\u001b[0m\n\u001b[0;32m    440\u001b[0m             \u001b[1;31m# with the input_spec specified in the layer constructor\u001b[0m\u001b[1;33m\u001b[0m\u001b[1;33m\u001b[0m\u001b[0m\n\u001b[1;32m--> 441\u001b[1;33m             \u001b[0mself\u001b[0m\u001b[1;33m.\u001b[0m\u001b[0massert_input_compatibility\u001b[0m\u001b[1;33m(\u001b[0m\u001b[0mx\u001b[0m\u001b[1;33m)\u001b[0m\u001b[1;33m\u001b[0m\u001b[0m\n\u001b[0m\u001b[0;32m    442\u001b[0m \u001b[1;33m\u001b[0m\u001b[0m\n\u001b[0;32m    443\u001b[0m             \u001b[1;31m# collect input shapes to build layer\u001b[0m\u001b[1;33m\u001b[0m\u001b[1;33m\u001b[0m\u001b[0m\n",
      "\u001b[1;32mC:\\Anaconda3\\envs\\cnn\\lib\\site-packages\\keras\\engine\\topology.py\u001b[0m in \u001b[0;36massert_input_compatibility\u001b[1;34m(self, input)\u001b[0m\n\u001b[0;32m    375\u001b[0m                                         str(K.ndim(x)))\n\u001b[0;32m    376\u001b[0m                 \u001b[1;32melse\u001b[0m\u001b[1;33m:\u001b[0m\u001b[1;33m\u001b[0m\u001b[0m\n\u001b[1;32m--> 377\u001b[1;33m                     \u001b[1;32mif\u001b[0m \u001b[0mK\u001b[0m\u001b[1;33m.\u001b[0m\u001b[0mndim\u001b[0m\u001b[1;33m(\u001b[0m\u001b[0mx\u001b[0m\u001b[1;33m)\u001b[0m \u001b[1;33m!=\u001b[0m \u001b[0mspec\u001b[0m\u001b[1;33m.\u001b[0m\u001b[0mndim\u001b[0m\u001b[1;33m:\u001b[0m\u001b[1;33m\u001b[0m\u001b[0m\n\u001b[0m\u001b[0;32m    378\u001b[0m                         raise Exception('Input ' + str(input_index) +\n\u001b[0;32m    379\u001b[0m                                         \u001b[1;34m' is incompatible with layer '\u001b[0m \u001b[1;33m+\u001b[0m\u001b[1;33m\u001b[0m\u001b[0m\n",
      "\u001b[1;32mC:\\Anaconda3\\envs\\cnn\\lib\\site-packages\\keras\\backend\\theano_backend.py\u001b[0m in \u001b[0;36mndim\u001b[1;34m(x)\u001b[0m\n\u001b[0;32m     55\u001b[0m \u001b[1;33m\u001b[0m\u001b[0m\n\u001b[0;32m     56\u001b[0m \u001b[1;32mdef\u001b[0m \u001b[0mndim\u001b[0m\u001b[1;33m(\u001b[0m\u001b[0mx\u001b[0m\u001b[1;33m)\u001b[0m\u001b[1;33m:\u001b[0m\u001b[1;33m\u001b[0m\u001b[0m\n\u001b[1;32m---> 57\u001b[1;33m     \u001b[1;32mreturn\u001b[0m \u001b[0mx\u001b[0m\u001b[1;33m.\u001b[0m\u001b[0mndim\u001b[0m\u001b[1;33m\u001b[0m\u001b[0m\n\u001b[0m\u001b[0;32m     58\u001b[0m \u001b[1;33m\u001b[0m\u001b[0m\n\u001b[0;32m     59\u001b[0m \u001b[1;33m\u001b[0m\u001b[0m\n",
      "\u001b[1;31mAttributeError\u001b[0m: 'Merge' object has no attribute 'ndim'"
     ]
    }
   ],
   "source": [
    "'''Trains a simple convnet on the face landmark dataset.\n",
    "Adapted from Keras MNIST CNN example code.\n",
    "'''\n",
    "\n",
    "import numpy as np\n",
    "np.random.seed(1337)  # for reproducibility\n",
    "\n",
    "from keras.models import Model\n",
    "from keras.layers import Input, Dense, Dropout, Activation, Flatten, Reshape, Merge\n",
    "from keras.layers.convolutional import Convolution2D, MaxPooling2D\n",
    "from keras.utils import np_utils\n",
    "\n",
    "\n",
    "batch_size = 10\n",
    "nb_landmarks = 5\n",
    "nb_epoch = 10\n",
    "#nb_validation_data = (X_test, _Y_test)\n",
    "nb_validation_data = None\n",
    "\n",
    "nb_submodels = 3\n",
    "\n",
    "# input image dimensions\n",
    "img_chns, img_rows, img_cols = 3, 20, 20\n",
    "# number of convolutional filters to use\n",
    "nb_filters = [32, 64]\n",
    "# size of pooling area for max pooling\n",
    "nb_pool_sizes = [(2, 2), (2, 2)]\n",
    "# convolution kernel size\n",
    "nb_conv = 3\n",
    "# activator\n",
    "nb_activator = 'tanh'\n",
    "# number of fully connected neurons in the penultimate layer\n",
    "nb_penu_neurons = 128\n",
    "# size of output vector, four \"corner values\" for each landmark\n",
    "nb_output_size = nb_landmarks * 4\n",
    "\n",
    "input_img = Input(shape=(img_chns, img_rows, img_cols), dtype='float32', name='input_img')\n",
    "\n",
    "x = input_img\n",
    "x = (Convolution2D(nb_filters[0], nb_conv, nb_conv))(x)\n",
    "x = (Activation(nb_activator))(x)\n",
    "x = (MaxPooling2D(pool_size=nb_pool_sizes[0]))(x)\n",
    "x = (Convolution2D(nb_filters[1], nb_conv, nb_conv))(x)\n",
    "x = (Activation(nb_activator))(x)\n",
    "x = (MaxPooling2D(pool_size=nb_pool_sizes[1]))(x)\n",
    "x = (Dropout(0.25))(x)\n",
    "\n",
    "x = (Flatten())(x)\n",
    "x = (Dense(nb_penu_neurons))(x)\n",
    "x = (Activation(nb_activator))(x)\n",
    "x = (Dropout(0.5))(x)\n",
    "output_landmarks = (Dense(nb_landmarks * 2))(x)\n",
    "\n",
    "#submodel = Model(input=input_img, output=output_landmarks)\n",
    "s1 = Model(input=input_img, output=output_landmarks)\n",
    "s2 = Model(input=input_img, output=output_landmarks)\n",
    "s3 = Model(input=input_img, output=output_landmarks)\n",
    "\n",
    "#sub_output = submodel(input_img)\n",
    "sub_output = Merge([s1,s2,s3], mode='concat', output_shape=(nb_landmarks * 2 * nb_submodels,))\n",
    "output = Dense(nb_landmarks * 2)(sub_output)\n",
    "output = Reshape((nb_landmarks, 2))(output)\n",
    "\n",
    "model = Model(input=input_img, output=output)\n",
    "\n",
    "model.compile(loss='mse',\n",
    "              optimizer='adadelta',\n",
    "              metrics=['accuracy'])\n",
    "\n",
    "model.fit(X_train, Y_train, batch_size=batch_size, nb_epoch=nb_epoch,\n",
    "          verbose=1, validation_data=nb_validation_data)\n",
    "\n",
    "score = model.evaluate(X_test, Y_test, verbose=0)\n",
    "print('Test score:', score[0])\n",
    "print('Test accuracy:', score[1])"
   ]
  },
  {
   "cell_type": "code",
   "execution_count": 39,
   "metadata": {
    "collapsed": false
   },
   "outputs": [],
   "source": [
    "# save model\n",
    "model_filename = '../model/all(ratio-0.8,rand-1337),eye,20px,500ep'\n",
    "print(model.to_json(), file=open(model_filename+'.json', 'w'))\n",
    "model.save_weights(model_filename+'.weight')"
   ]
  },
  {
   "cell_type": "code",
   "execution_count": 16,
   "metadata": {
    "collapsed": false
   },
   "outputs": [],
   "source": [
    "Y_pred = model.predict(X_test)"
   ]
  },
  {
   "cell_type": "code",
   "execution_count": 18,
   "metadata": {
    "collapsed": false
   },
   "outputs": [],
   "source": [
    "# observe learning results\n",
    "import random\n",
    "plt.figure()\n",
    "for iplt, i in enumerate(random.sample(range(len(Y_test)), 30)) :\n",
    "    plt.subplot(5, 6, iplt+1)\n",
    "    img = X_test[i].transpose((1,2,0))\n",
    "    io.imshow(img)\n",
    "    pts2 = Y_test[i]\n",
    "    plt.plot(pts2[:,0]*img_rows, pts2[:,1]*img_cols, 'o')\n",
    "    pts = Y_pred[i]\n",
    "    plt.plot(pts[:,0]*img_rows, pts[:,1]*img_cols, 'ro')\n",
    "    plt.axis('off')\n",
    "plt.tight_layout()\n",
    "io.show()"
   ]
  },
  {
   "cell_type": "code",
   "execution_count": 1,
   "metadata": {
    "collapsed": false
   },
   "outputs": [
    {
     "name": "stdout",
     "output_type": "stream",
     "text": [
      "X shape: (8003, 3, 20, 20)\n",
      "Y shape: (8003, 5, 2)\n",
      "X_train shape: (6402, 3, 20, 20)\n",
      "Y_train shape: (6402, 5, 2)\n",
      "6402 train samples\n",
      "1601 test samples\n"
     ]
    }
   ],
   "source": [
    "# load data\n",
    "from face_data import *\n",
    "X, Y = data('../../../result_20/', subdirs)\n",
    "(X_train, Y_train), (X_test, Y_test) = split_data(X, Y, ratio_train=0.8, rand_seed=1337)"
   ]
  },
  {
   "cell_type": "code",
   "execution_count": 5,
   "metadata": {
    "collapsed": false
   },
   "outputs": [
    {
     "data": {
      "text/plain": [
       "(3629, 2, 20, 20)"
      ]
     },
     "execution_count": 5,
     "metadata": {},
     "output_type": "execute_result"
    }
   ],
   "source": [
    "X[:,:2].shape"
   ]
  },
  {
   "cell_type": "code",
   "execution_count": 31,
   "metadata": {
    "collapsed": false
   },
   "outputs": [],
   "source": [
    "# load model\n",
    "model_filename = '../model/all(ratio-0.8,rand-1337),eye,20px,500ep'\n",
    "import keras.models\n",
    "model2 = keras.models.model_from_json(open(model_filename+'.json').read())\n",
    "model2.load_weights(model_filename+'.weight')\n",
    "model2.compile(loss='mse',\n",
    "              optimizer='adadelta',\n",
    "              metrics=['accuracy'])"
   ]
  },
  {
   "cell_type": "code",
   "execution_count": 32,
   "metadata": {
    "collapsed": false
   },
   "outputs": [],
   "source": [
    "Y_pred2 = model2.predict(X_test)"
   ]
  },
  {
   "cell_type": "code",
   "execution_count": 34,
   "metadata": {
    "collapsed": false
   },
   "outputs": [
    {
     "data": {
      "text/plain": [
       "True"
      ]
     },
     "execution_count": 34,
     "metadata": {},
     "output_type": "execute_result"
    }
   ],
   "source": [
    "np.all(Y_pred == Y_pred2)"
   ]
  },
  {
   "cell_type": "code",
   "execution_count": null,
   "metadata": {
    "collapsed": true
   },
   "outputs": [],
   "source": []
  }
 ],
 "metadata": {
  "kernelspec": {
   "display_name": "Python 3",
   "language": "python",
   "name": "python3"
  },
  "language_info": {
   "codemirror_mode": {
    "name": "ipython",
    "version": 3
   },
   "file_extension": ".py",
   "mimetype": "text/x-python",
   "name": "python",
   "nbconvert_exporter": "python",
   "pygments_lexer": "ipython3",
   "version": "3.4.4"
  }
 },
 "nbformat": 4,
 "nbformat_minor": 0
}
