{
 "cells": [
  {
   "cell_type": "code",
   "execution_count": 7,
   "metadata": {
    "collapsed": false
   },
   "outputs": [
    {
     "name": "stdout",
     "output_type": "stream",
     "text": [
      "Test score: 0.00107327729526\n",
      "Test accuracy: 0.942036231408\n"
     ]
    }
   ],
   "source": [
    "import numpy as np\n",
    "np.random.seed(1337)  # for reproducibility\n",
    "\n",
    "from keras.models import Model\n",
    "from keras.layers import Input, Dense, Dropout, Activation, Flatten, Reshape, merge\n",
    "from keras.layers.convolutional import Convolution2D, MaxPooling2D\n",
    "from keras.utils import np_utils\n",
    "\n",
    "\n",
    "batch_size = 10\n",
    "nb_landmarks = 5\n",
    "nb_epoch = 500\n",
    "#nb_validation_data = (X_test, _Y_test)\n",
    "nb_validation_data = None\n",
    "\n",
    "nb_submodels = 3\n",
    "\n",
    "# input image dimensions\n",
    "img_chns, img_rows, img_cols = 3, 20, 20\n",
    "# number of convolutional filters to use\n",
    "nb_filters = [32, 64]\n",
    "# size of pooling area for max pooling\n",
    "nb_pool_sizes = [(2, 2), (2, 2)]\n",
    "# convolution kernel size\n",
    "nb_conv = 3\n",
    "# activator\n",
    "nb_activator = 'tanh'\n",
    "# number of fully connected neurons in the penultimate layer\n",
    "nb_penu_neurons = 128\n",
    "# size of output vector, four \"corner values\" for each landmark\n",
    "nb_output_size = nb_landmarks * 4\n",
    "\n",
    "input_img = Input(shape=(img_chns, img_rows, img_cols), dtype='float32', name='input_img')\n",
    "\n",
    "def submodel(x) :\n",
    "    x = (Convolution2D(nb_filters[0], nb_conv, nb_conv))(x)\n",
    "    x = (Activation(nb_activator))(x)\n",
    "    x = (MaxPooling2D(pool_size=nb_pool_sizes[0]))(x)\n",
    "    x = (Convolution2D(nb_filters[1], nb_conv, nb_conv))(x)\n",
    "    x = (Activation(nb_activator))(x)\n",
    "    x = (MaxPooling2D(pool_size=nb_pool_sizes[1]))(x)\n",
    "    x = (Dropout(0.25))(x)\n",
    "\n",
    "    x = (Flatten())(x)\n",
    "    x = (Dense(nb_penu_neurons))(x)\n",
    "    x = (Activation(nb_activator))(x)\n",
    "    x = (Dropout(0.5))(x)\n",
    "    output_landmarks = (Dense(nb_landmarks * 2))(x)\n",
    "    return output_landmarks\n",
    "\n",
    "sub_output = merge([submodel(input_img) for _ in range(nb_submodels)], mode='concat')\n",
    "\n",
    "x = (Dense(nb_landmarks * 2))(sub_output)\n",
    "output_landmarks = (Reshape((nb_landmarks, 2)))(x)\n",
    "\n",
    "model = Model(input=input_img, output=output_landmarks)\n",
    "\n",
    "model.compile(loss='mse',\n",
    "              optimizer='adadelta',\n",
    "              metrics=['accuracy'])\n",
    "\n",
    "model.fit(X_train, Y_train, batch_size=batch_size, nb_epoch=nb_epoch,\n",
    "          verbose=0, validation_data=nb_validation_data)\n",
    "\n",
    "score = model.evaluate(X_test, Y_test, verbose=0)\n",
    "print('Test score:', score[0])\n",
    "print('Test accuracy:', score[1])\n"
   ]
  },
  {
   "cell_type": "code",
   "execution_count": 8,
   "metadata": {
    "collapsed": false
   },
   "outputs": [],
   "source": [
    "# save model\n",
    "model_filename = '../model/all(ratio-0.8,rand-1337),3sub-parallel,20px,500ep'\n",
    "print(model.to_json(), file=open(model_filename+'.json', 'w'))\n",
    "model.save_weights(model_filename+'.weight')"
   ]
  },
  {
   "cell_type": "code",
   "execution_count": 9,
   "metadata": {
    "collapsed": false
   },
   "outputs": [],
   "source": [
    "Y_pred = model.predict(X_test)"
   ]
  },
  {
   "cell_type": "code",
   "execution_count": 11,
   "metadata": {
    "collapsed": false
   },
   "outputs": [],
   "source": [
    "# observe learning results\n",
    "import random\n",
    "plt.figure()\n",
    "for iplt, i in enumerate(random.sample(range(len(Y_test)), 30)) :\n",
    "    plt.subplot(5, 6, iplt+1)\n",
    "    img = X_test[i].transpose((1,2,0))\n",
    "    io.imshow(img)\n",
    "    pts2 = Y_test[i]\n",
    "    plt.plot(pts2[:,0]*img_rows, pts2[:,1]*img_cols, 'o')\n",
    "    pts = Y_pred[i]\n",
    "    plt.plot(pts[:,0]*img_rows, pts[:,1]*img_cols, 'ro')\n",
    "    plt.axis('off')\n",
    "plt.tight_layout()\n",
    "io.show()"
   ]
  },
  {
   "cell_type": "code",
   "execution_count": 1,
   "metadata": {
    "collapsed": false
   },
   "outputs": [
    {
     "name": "stdout",
     "output_type": "stream",
     "text": [
      "X shape: (8003, 3, 20, 20)\n",
      "Y shape: (8003, 5, 2)\n",
      "X_train shape: (6402, 3, 20, 20)\n",
      "Y_train shape: (6402, 5, 2)\n",
      "6402 train samples\n",
      "1601 test samples\n"
     ]
    }
   ],
   "source": [
    "from face_data import *\n",
    "X, Y = data('../../../result_20/', subdirs)\n",
    "(X_train, Y_train), (X_test, Y_test) = split_data(X, Y, ratio_train=0.8, rand_seed=1337)"
   ]
  },
  {
   "cell_type": "code",
   "execution_count": 31,
   "metadata": {
    "collapsed": false
   },
   "outputs": [],
   "source": [
    "# load model\n",
    "model_filename = '../model/all(ratio-0.8,rand-1337),eye,20px,500ep'\n",
    "import keras.models\n",
    "model2 = keras.models.model_from_json(open(model_filename+'.json').read())\n",
    "model2.load_weights(model_filename+'.weight')\n",
    "model2.compile(loss='mse',\n",
    "              optimizer='adadelta',\n",
    "              metrics=['accuracy'])"
   ]
  },
  {
   "cell_type": "code",
   "execution_count": null,
   "metadata": {
    "collapsed": true
   },
   "outputs": [],
   "source": []
  }
 ],
 "metadata": {
  "kernelspec": {
   "display_name": "Python 3",
   "language": "python",
   "name": "python3"
  },
  "language_info": {
   "codemirror_mode": {
    "name": "ipython",
    "version": 3
   },
   "file_extension": ".py",
   "mimetype": "text/x-python",
   "name": "python",
   "nbconvert_exporter": "python",
   "pygments_lexer": "ipython3",
   "version": "3.4.4"
  }
 },
 "nbformat": 4,
 "nbformat_minor": 0
}
