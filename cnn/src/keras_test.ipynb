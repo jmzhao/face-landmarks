{
 "cells": [
  {
   "cell_type": "code",
   "execution_count": 3,
   "metadata": {
    "collapsed": false
   },
   "outputs": [],
   "source": [
    "from keras.models import Sequential\n",
    "from keras.layers.core import Activation, Dense, Dropout"
   ]
  },
  {
   "cell_type": "code",
   "execution_count": 17,
   "metadata": {
    "collapsed": false
   },
   "outputs": [
    {
     "name": "stdout",
     "output_type": "stream",
     "text": [
      "Epoch 1/50\n",
      "379/379 [==============================] - 0s - loss: 0.6886 - acc: 0.6174     \n",
      "Epoch 2/50\n",
      "379/379 [==============================] - 0s - loss: 0.6442 - acc: 0.6227     \n",
      "Epoch 3/50\n",
      "379/379 [==============================] - 0s - loss: 0.5826 - acc: 0.6517     \n",
      "Epoch 4/50\n",
      "379/379 [==============================] - 0s - loss: 0.5194 - acc: 0.7335     \n",
      "Epoch 5/50\n",
      "379/379 [==============================] - 0s - loss: 0.4792 - acc: 0.7942     \n",
      "Epoch 6/50\n",
      "379/379 [==============================] - 0s - loss: 0.4511 - acc: 0.7995     \n",
      "Epoch 7/50\n",
      "379/379 [==============================] - 0s - loss: 0.4051 - acc: 0.8575     \n",
      "Epoch 8/50\n",
      "379/379 [==============================] - 0s - loss: 0.4065 - acc: 0.8522     \n",
      "Epoch 9/50\n",
      "379/379 [==============================] - 0s - loss: 0.3715 - acc: 0.8602     \n",
      "Epoch 10/50\n",
      "379/379 [==============================] - 0s - loss: 0.3313 - acc: 0.8839     \n",
      "Epoch 11/50\n",
      "379/379 [==============================] - 0s - loss: 0.3214 - acc: 0.9208     \n",
      "Epoch 12/50\n",
      "379/379 [==============================] - 0s - loss: 0.3126 - acc: 0.8997     \n",
      "Epoch 13/50\n",
      "379/379 [==============================] - 0s - loss: 0.2998 - acc: 0.9050     \n",
      "Epoch 14/50\n",
      "379/379 [==============================] - 0s - loss: 0.2898 - acc: 0.9024     \n",
      "Epoch 15/50\n",
      "379/379 [==============================] - 0s - loss: 0.2688 - acc: 0.9129     \n",
      "Epoch 16/50\n",
      "379/379 [==============================] - 0s - loss: 0.2750 - acc: 0.8945     \n",
      "Epoch 17/50\n",
      "379/379 [==============================] - 0s - loss: 0.2492 - acc: 0.9077     \n",
      "Epoch 18/50\n",
      "379/379 [==============================] - 0s - loss: 0.2612 - acc: 0.9129     \n",
      "Epoch 19/50\n",
      "379/379 [==============================] - 0s - loss: 0.2477 - acc: 0.9129     \n",
      "Epoch 20/50\n",
      "379/379 [==============================] - 0s - loss: 0.2396 - acc: 0.9235     \n",
      "Epoch 21/50\n",
      "379/379 [==============================] - 0s - loss: 0.2298 - acc: 0.9288     \n",
      "Epoch 22/50\n",
      "379/379 [==============================] - 0s - loss: 0.2329 - acc: 0.9235     \n",
      "Epoch 23/50\n",
      "379/379 [==============================] - 0s - loss: 0.2298 - acc: 0.9103     \n",
      "Epoch 24/50\n",
      "379/379 [==============================] - 0s - loss: 0.2078 - acc: 0.9182     \n",
      "Epoch 25/50\n",
      "379/379 [==============================] - 0s - loss: 0.2178 - acc: 0.9367     \n",
      "Epoch 26/50\n",
      "379/379 [==============================] - 0s - loss: 0.2152 - acc: 0.9314     \n",
      "Epoch 27/50\n",
      "379/379 [==============================] - 0s - loss: 0.1922 - acc: 0.9420     \n",
      "Epoch 28/50\n",
      "379/379 [==============================] - 0s - loss: 0.1952 - acc: 0.9288     \n",
      "Epoch 29/50\n",
      "379/379 [==============================] - 0s - loss: 0.1911 - acc: 0.9367     \n",
      "Epoch 30/50\n",
      "379/379 [==============================] - 0s - loss: 0.2014 - acc: 0.9393     \n",
      "Epoch 31/50\n",
      "379/379 [==============================] - 0s - loss: 0.1894 - acc: 0.9446     \n",
      "Epoch 32/50\n",
      "379/379 [==============================] - 0s - loss: 0.1721 - acc: 0.9472     \n",
      "Epoch 33/50\n",
      "379/379 [==============================] - 0s - loss: 0.1906 - acc: 0.9499     \n",
      "Epoch 34/50\n",
      "379/379 [==============================] - 0s - loss: 0.1611 - acc: 0.9340     \n",
      "Epoch 35/50\n",
      "379/379 [==============================] - 0s - loss: 0.1758 - acc: 0.9420     \n",
      "Epoch 36/50\n",
      "379/379 [==============================] - 0s - loss: 0.1698 - acc: 0.9340     \n",
      "Epoch 37/50\n",
      "379/379 [==============================] - 0s - loss: 0.1656 - acc: 0.9367     \n",
      "Epoch 38/50\n",
      "379/379 [==============================] - 0s - loss: 0.1721 - acc: 0.9446     \n",
      "Epoch 39/50\n",
      "379/379 [==============================] - 0s - loss: 0.1529 - acc: 0.9525     \n",
      "Epoch 40/50\n",
      "379/379 [==============================] - 0s - loss: 0.1599 - acc: 0.9499     \n",
      "Epoch 41/50\n",
      "379/379 [==============================] - 0s - loss: 0.1554 - acc: 0.9446     \n",
      "Epoch 42/50\n",
      "379/379 [==============================] - 0s - loss: 0.1482 - acc: 0.9551     \n",
      "Epoch 43/50\n",
      "379/379 [==============================] - 0s - loss: 0.1399 - acc: 0.9367     \n",
      "Epoch 44/50\n",
      "379/379 [==============================] - 0s - loss: 0.1563 - acc: 0.9499     \n",
      "Epoch 45/50\n",
      "379/379 [==============================] - 0s - loss: 0.1606 - acc: 0.9420     \n",
      "Epoch 46/50\n",
      "379/379 [==============================] - 0s - loss: 0.1461 - acc: 0.9578     \n",
      "Epoch 47/50\n",
      "379/379 [==============================] - 0s - loss: 0.1348 - acc: 0.9499     \n",
      "Epoch 48/50\n",
      "379/379 [==============================] - 0s - loss: 0.1452 - acc: 0.9578     \n",
      "Epoch 49/50\n",
      "379/379 [==============================] - 0s - loss: 0.1376 - acc: 0.9551     \n",
      "Epoch 50/50\n",
      "379/379 [==============================] - 0s - loss: 0.1342 - acc: 0.9499     \n",
      "56/56 [==============================] - 0s     \n"
     ]
    },
    {
     "data": {
      "text/plain": [
       "[0.19430702445762499, 0.9285714285714286]"
      ]
     },
     "execution_count": 17,
     "metadata": {},
     "output_type": "execute_result"
    }
   ],
   "source": [
    "np.random.seed(1337)\n",
    "model = Sequential()\n",
    "model.add(Dense(8, input_dim=16, activation='sigmoid'))\n",
    "model.add(Dropout(0.25))\n",
    "model.add(Dense(1, activation='sigmoid'))\n",
    "model.compile(optimizer='adadelta',\n",
    "              loss='binary_crossentropy',\n",
    "              metrics=['accuracy'])\n",
    "model.fit(trainX, trainY, nb_epoch=50)\n",
    "score = model.evaluate(testX, testY)\n",
    "score"
   ]
  },
  {
   "cell_type": "code",
   "execution_count": 18,
   "metadata": {
    "collapsed": false
   },
   "outputs": [
    {
     "name": "stdout",
     "output_type": "stream",
     "text": [
      "accuracy: 52 / 56\n"
     ]
    }
   ],
   "source": [
    "predY = model.predict(testX)\n",
    "print(\"accuracy:\", len([1 for py,y in zip(predY, testY) if np.round(py) == y]), \"/\", len(predY))"
   ]
  },
  {
   "cell_type": "code",
   "execution_count": 8,
   "metadata": {
    "collapsed": false
   },
   "outputs": [],
   "source": [
    "import numpy as np\n",
    "import arff\n",
    "\n",
    "def load(fname, parser) :\n",
    "    X = list(); Y = list();\n",
    "    for row in arff.load(fname) :\n",
    "        row = list(row)\n",
    "        x, y = parser(row)\n",
    "        X.append(x)\n",
    "        Y.append(y)\n",
    "    return X, Y\n",
    "\n",
    "def dreverse(d) :\n",
    "    return dict((y,x) for x,y in d.items())\n",
    "\n",
    "def parser(row, dfeat, dlabel) :\n",
    "    return [dfeat[c] for c in row[:-1]], [dlabel[row[-1]]]\n"
   ]
  },
  {
   "cell_type": "code",
   "execution_count": 11,
   "metadata": {
    "collapsed": false
   },
   "outputs": [],
   "source": [
    "dyn2num = {\"'y'\":1, \"'n'\":0}\n",
    "dlabel2num = {\"'democrat'\":0, \"'republican'\":1}\n",
    "vote_parser = lambda row : parser(row, dyn2num, dlabel2num)\n",
    "trainX, trainY = load('../../../toydata/vote_train.arff', vote_parser)\n",
    "testX, testY = load('../../../toydata/vote_test.arff', vote_parser)"
   ]
  },
  {
   "cell_type": "code",
   "execution_count": 12,
   "metadata": {
    "collapsed": false
   },
   "outputs": [
    {
     "data": {
      "text/plain": [
       "16"
      ]
     },
     "execution_count": 12,
     "metadata": {},
     "output_type": "execute_result"
    }
   ],
   "source": [
    "len(testX[0])"
   ]
  },
  {
   "cell_type": "code",
   "execution_count": null,
   "metadata": {
    "collapsed": true
   },
   "outputs": [],
   "source": []
  }
 ],
 "metadata": {
  "kernelspec": {
   "display_name": "Python 3",
   "language": "python",
   "name": "python3"
  },
  "language_info": {
   "codemirror_mode": {
    "name": "ipython",
    "version": 3
   },
   "file_extension": ".py",
   "mimetype": "text/x-python",
   "name": "python",
   "nbconvert_exporter": "python",
   "pygments_lexer": "ipython3",
   "version": "3.5.1"
  }
 },
 "nbformat": 4,
 "nbformat_minor": 0
}
