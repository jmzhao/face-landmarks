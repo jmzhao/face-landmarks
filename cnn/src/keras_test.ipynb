{
 "cells": [
  {
   "cell_type": "code",
   "execution_count": 1,
   "metadata": {
    "collapsed": false
   },
   "outputs": [
    {
     "name": "stderr",
     "output_type": "stream",
     "text": [
      "Using Theano backend.\n"
     ]
    },
    {
     "ename": "ValueError",
     "evalue": "Theano nvcc.flags support only parameter/value pairs without space between them. e.g.: '--machine 64' is not supported, but '--machine=64' is supported. Please add the '=' symbol. nvcc.flags value is 'C:\\Anaconda3\\libs'",
     "output_type": "error",
     "traceback": [
      "\u001b[1;31m---------------------------------------------------------------------------\u001b[0m",
      "\u001b[1;31mValueError\u001b[0m                                Traceback (most recent call last)",
      "\u001b[1;32m<ipython-input-1-f3b7d48e2a37>\u001b[0m in \u001b[0;36m<module>\u001b[1;34m()\u001b[0m\n\u001b[1;32m----> 1\u001b[1;33m \u001b[1;32mfrom\u001b[0m \u001b[0mkeras\u001b[0m\u001b[1;33m.\u001b[0m\u001b[0mmodels\u001b[0m \u001b[1;32mimport\u001b[0m \u001b[0mSequential\u001b[0m\u001b[1;33m\u001b[0m\u001b[0m\n\u001b[0m\u001b[0;32m      2\u001b[0m \u001b[1;32mfrom\u001b[0m \u001b[0mkeras\u001b[0m\u001b[1;33m.\u001b[0m\u001b[0mlayers\u001b[0m\u001b[1;33m.\u001b[0m\u001b[0mcore\u001b[0m \u001b[1;32mimport\u001b[0m \u001b[0mActivation\u001b[0m\u001b[1;33m,\u001b[0m \u001b[0mDense\u001b[0m\u001b[1;33m,\u001b[0m \u001b[0mDropout\u001b[0m\u001b[1;33m\u001b[0m\u001b[0m\n",
      "\u001b[1;32mC:\\Anaconda3\\envs\\cnn\\lib\\site-packages\\keras\\models.py\u001b[0m in \u001b[0;36m<module>\u001b[1;34m()\u001b[0m\n\u001b[0;32m      3\u001b[0m \u001b[1;32mimport\u001b[0m \u001b[0mcopy\u001b[0m\u001b[1;33m\u001b[0m\u001b[0m\n\u001b[0;32m      4\u001b[0m \u001b[1;33m\u001b[0m\u001b[0m\n\u001b[1;32m----> 5\u001b[1;33m \u001b[1;32mfrom\u001b[0m \u001b[1;33m.\u001b[0m \u001b[1;32mimport\u001b[0m \u001b[0mbackend\u001b[0m \u001b[1;32mas\u001b[0m \u001b[0mK\u001b[0m\u001b[1;33m\u001b[0m\u001b[0m\n\u001b[0m\u001b[0;32m      6\u001b[0m \u001b[1;32mfrom\u001b[0m \u001b[1;33m.\u001b[0m\u001b[0mengine\u001b[0m\u001b[1;33m.\u001b[0m\u001b[0mtraining\u001b[0m \u001b[1;32mimport\u001b[0m \u001b[0mModel\u001b[0m\u001b[1;33m\u001b[0m\u001b[0m\n\u001b[0;32m      7\u001b[0m \u001b[1;32mfrom\u001b[0m \u001b[1;33m.\u001b[0m\u001b[0mengine\u001b[0m\u001b[1;33m.\u001b[0m\u001b[0mtopology\u001b[0m \u001b[1;32mimport\u001b[0m \u001b[0mget_source_inputs\u001b[0m\u001b[1;33m,\u001b[0m \u001b[0mNode\u001b[0m\u001b[1;33m\u001b[0m\u001b[0m\n",
      "\u001b[1;32mC:\\Anaconda3\\envs\\cnn\\lib\\site-packages\\keras\\backend\\__init__.py\u001b[0m in \u001b[0;36m<module>\u001b[1;34m()\u001b[0m\n\u001b[0;32m     49\u001b[0m \u001b[1;32mif\u001b[0m \u001b[0m_BACKEND\u001b[0m \u001b[1;33m==\u001b[0m \u001b[1;34m'theano'\u001b[0m\u001b[1;33m:\u001b[0m\u001b[1;33m\u001b[0m\u001b[0m\n\u001b[0;32m     50\u001b[0m     \u001b[0msys\u001b[0m\u001b[1;33m.\u001b[0m\u001b[0mstderr\u001b[0m\u001b[1;33m.\u001b[0m\u001b[0mwrite\u001b[0m\u001b[1;33m(\u001b[0m\u001b[1;34m'Using Theano backend.\\n'\u001b[0m\u001b[1;33m)\u001b[0m\u001b[1;33m\u001b[0m\u001b[0m\n\u001b[1;32m---> 51\u001b[1;33m     \u001b[1;32mfrom\u001b[0m \u001b[1;33m.\u001b[0m\u001b[0mtheano_backend\u001b[0m \u001b[1;32mimport\u001b[0m \u001b[1;33m*\u001b[0m\u001b[1;33m\u001b[0m\u001b[0m\n\u001b[0m\u001b[0;32m     52\u001b[0m \u001b[1;32melif\u001b[0m \u001b[0m_BACKEND\u001b[0m \u001b[1;33m==\u001b[0m \u001b[1;34m'tensorflow'\u001b[0m\u001b[1;33m:\u001b[0m\u001b[1;33m\u001b[0m\u001b[0m\n\u001b[0;32m     53\u001b[0m     \u001b[0msys\u001b[0m\u001b[1;33m.\u001b[0m\u001b[0mstderr\u001b[0m\u001b[1;33m.\u001b[0m\u001b[0mwrite\u001b[0m\u001b[1;33m(\u001b[0m\u001b[1;34m'Using TensorFlow backend.\\n'\u001b[0m\u001b[1;33m)\u001b[0m\u001b[1;33m\u001b[0m\u001b[0m\n",
      "\u001b[1;32mC:\\Anaconda3\\envs\\cnn\\lib\\site-packages\\keras\\backend\\theano_backend.py\u001b[0m in \u001b[0;36m<module>\u001b[1;34m()\u001b[0m\n\u001b[1;32m----> 1\u001b[1;33m \u001b[1;32mimport\u001b[0m \u001b[0mtheano\u001b[0m\u001b[1;33m\u001b[0m\u001b[0m\n\u001b[0m\u001b[0;32m      2\u001b[0m \u001b[1;32mfrom\u001b[0m \u001b[0mtheano\u001b[0m \u001b[1;32mimport\u001b[0m \u001b[0mtensor\u001b[0m \u001b[1;32mas\u001b[0m \u001b[0mT\u001b[0m\u001b[1;33m\u001b[0m\u001b[0m\n\u001b[0;32m      3\u001b[0m \u001b[1;32mfrom\u001b[0m \u001b[0mtheano\u001b[0m\u001b[1;33m.\u001b[0m\u001b[0msandbox\u001b[0m\u001b[1;33m.\u001b[0m\u001b[0mrng_mrg\u001b[0m \u001b[1;32mimport\u001b[0m \u001b[0mMRG_RandomStreams\u001b[0m \u001b[1;32mas\u001b[0m \u001b[0mRandomStreams\u001b[0m\u001b[1;33m\u001b[0m\u001b[0m\n\u001b[0;32m      4\u001b[0m \u001b[1;32mfrom\u001b[0m \u001b[0mtheano\u001b[0m\u001b[1;33m.\u001b[0m\u001b[0mtensor\u001b[0m\u001b[1;33m.\u001b[0m\u001b[0msignal\u001b[0m \u001b[1;32mimport\u001b[0m \u001b[0mpool\u001b[0m\u001b[1;33m\u001b[0m\u001b[0m\n\u001b[0;32m      5\u001b[0m \u001b[1;32mfrom\u001b[0m \u001b[0mtheano\u001b[0m\u001b[1;33m.\u001b[0m\u001b[0mtensor\u001b[0m\u001b[1;33m.\u001b[0m\u001b[0mnnet\u001b[0m \u001b[1;32mimport\u001b[0m \u001b[0mconv3d2d\u001b[0m\u001b[1;33m\u001b[0m\u001b[0m\n",
      "\u001b[1;32mC:\\Anaconda3\\envs\\cnn\\lib\\site-packages\\theano\\__init__.py\u001b[0m in \u001b[0;36m<module>\u001b[1;34m()\u001b[0m\n\u001b[0;32m     40\u001b[0m \u001b[1;32mfrom\u001b[0m \u001b[0mtheano\u001b[0m\u001b[1;33m.\u001b[0m\u001b[0mversion\u001b[0m \u001b[1;32mimport\u001b[0m \u001b[0mversion\u001b[0m \u001b[1;32mas\u001b[0m \u001b[0m__version__\u001b[0m\u001b[1;33m\u001b[0m\u001b[0m\n\u001b[0;32m     41\u001b[0m \u001b[1;33m\u001b[0m\u001b[0m\n\u001b[1;32m---> 42\u001b[1;33m \u001b[1;32mfrom\u001b[0m \u001b[0mtheano\u001b[0m\u001b[1;33m.\u001b[0m\u001b[0mconfigdefaults\u001b[0m \u001b[1;32mimport\u001b[0m \u001b[0mconfig\u001b[0m\u001b[1;33m\u001b[0m\u001b[0m\n\u001b[0m\u001b[0;32m     43\u001b[0m \u001b[1;33m\u001b[0m\u001b[0m\n\u001b[0;32m     44\u001b[0m \u001b[1;31m# This is the api version for ops that generate C code.  External ops\u001b[0m\u001b[1;33m\u001b[0m\u001b[1;33m\u001b[0m\u001b[0m\n",
      "\u001b[1;32mC:\\Anaconda3\\envs\\cnn\\lib\\site-packages\\theano\\configdefaults.py\u001b[0m in \u001b[0;36m<module>\u001b[1;34m()\u001b[0m\n\u001b[0;32m    209\u001b[0m              \u001b[1;31m# We remove it as we don't make the md5 of config to change\u001b[0m\u001b[1;33m\u001b[0m\u001b[1;33m\u001b[0m\u001b[0m\n\u001b[0;32m    210\u001b[0m              \u001b[1;31m# if theano.sandbox.cuda is loaded or not.\u001b[0m\u001b[1;33m\u001b[0m\u001b[1;33m\u001b[0m\u001b[0m\n\u001b[1;32m--> 211\u001b[1;33m              in_c_key=False)\n\u001b[0m\u001b[0;32m    212\u001b[0m \u001b[1;33m\u001b[0m\u001b[0m\n\u001b[0;32m    213\u001b[0m AddConfigVar('nvcc.compiler_bindir',\n",
      "\u001b[1;32mC:\\Anaconda3\\envs\\cnn\\lib\\site-packages\\theano\\configparser.py\u001b[0m in \u001b[0;36mAddConfigVar\u001b[1;34m(name, doc, configparam, root, in_c_key)\u001b[0m\n\u001b[0;32m    264\u001b[0m                 newroot)\n\u001b[0;32m    265\u001b[0m         return AddConfigVar('.'.join(sections[1:]), doc, configparam,\n\u001b[1;32m--> 266\u001b[1;33m                             root=newroot, in_c_key=in_c_key)\n\u001b[0m\u001b[0;32m    267\u001b[0m     \u001b[1;32melse\u001b[0m\u001b[1;33m:\u001b[0m\u001b[1;33m\u001b[0m\u001b[0m\n\u001b[0;32m    268\u001b[0m         \u001b[1;32mif\u001b[0m \u001b[0mhasattr\u001b[0m\u001b[1;33m(\u001b[0m\u001b[0mroot\u001b[0m\u001b[1;33m,\u001b[0m \u001b[0mname\u001b[0m\u001b[1;33m)\u001b[0m\u001b[1;33m:\u001b[0m\u001b[1;33m\u001b[0m\u001b[0m\n",
      "\u001b[1;32mC:\\Anaconda3\\envs\\cnn\\lib\\site-packages\\theano\\configparser.py\u001b[0m in \u001b[0;36mAddConfigVar\u001b[1;34m(name, doc, configparam, root, in_c_key)\u001b[0m\n\u001b[0;32m    274\u001b[0m         \u001b[1;31m# This allow to filter wrong value from the user.\u001b[0m\u001b[1;33m\u001b[0m\u001b[1;33m\u001b[0m\u001b[0m\n\u001b[0;32m    275\u001b[0m         \u001b[1;32mif\u001b[0m \u001b[1;32mnot\u001b[0m \u001b[0mcallable\u001b[0m\u001b[1;33m(\u001b[0m\u001b[0mconfigparam\u001b[0m\u001b[1;33m.\u001b[0m\u001b[0mdefault\u001b[0m\u001b[1;33m)\u001b[0m\u001b[1;33m:\u001b[0m\u001b[1;33m\u001b[0m\u001b[0m\n\u001b[1;32m--> 276\u001b[1;33m             \u001b[0mconfigparam\u001b[0m\u001b[1;33m.\u001b[0m\u001b[0m__get__\u001b[0m\u001b[1;33m(\u001b[0m\u001b[0mroot\u001b[0m\u001b[1;33m,\u001b[0m \u001b[0mtype\u001b[0m\u001b[1;33m(\u001b[0m\u001b[0mroot\u001b[0m\u001b[1;33m)\u001b[0m\u001b[1;33m,\u001b[0m \u001b[0mdelete_key\u001b[0m\u001b[1;33m=\u001b[0m\u001b[1;32mTrue\u001b[0m\u001b[1;33m)\u001b[0m\u001b[1;33m\u001b[0m\u001b[0m\n\u001b[0m\u001b[0;32m    277\u001b[0m         \u001b[1;32melse\u001b[0m\u001b[1;33m:\u001b[0m\u001b[1;33m\u001b[0m\u001b[0m\n\u001b[0;32m    278\u001b[0m             \u001b[1;31m# We do not want to evaluate now the default value\u001b[0m\u001b[1;33m\u001b[0m\u001b[1;33m\u001b[0m\u001b[0m\n",
      "\u001b[1;32mC:\\Anaconda3\\envs\\cnn\\lib\\site-packages\\theano\\configparser.py\u001b[0m in \u001b[0;36m__get__\u001b[1;34m(self, cls, type_, delete_key)\u001b[0m\n\u001b[0;32m    322\u001b[0m                 \u001b[1;32melse\u001b[0m\u001b[1;33m:\u001b[0m\u001b[1;33m\u001b[0m\u001b[0m\n\u001b[0;32m    323\u001b[0m                     \u001b[0mval_str\u001b[0m \u001b[1;33m=\u001b[0m \u001b[0mself\u001b[0m\u001b[1;33m.\u001b[0m\u001b[0mdefault\u001b[0m\u001b[1;33m\u001b[0m\u001b[0m\n\u001b[1;32m--> 324\u001b[1;33m             \u001b[0mself\u001b[0m\u001b[1;33m.\u001b[0m\u001b[0m__set__\u001b[0m\u001b[1;33m(\u001b[0m\u001b[0mcls\u001b[0m\u001b[1;33m,\u001b[0m \u001b[0mval_str\u001b[0m\u001b[1;33m)\u001b[0m\u001b[1;33m\u001b[0m\u001b[0m\n\u001b[0m\u001b[0;32m    325\u001b[0m         \u001b[1;31m# print \"RVAL\", self.val\u001b[0m\u001b[1;33m\u001b[0m\u001b[1;33m\u001b[0m\u001b[0m\n\u001b[0;32m    326\u001b[0m         \u001b[1;32mreturn\u001b[0m \u001b[0mself\u001b[0m\u001b[1;33m.\u001b[0m\u001b[0mval\u001b[0m\u001b[1;33m\u001b[0m\u001b[0m\n",
      "\u001b[1;32mC:\\Anaconda3\\envs\\cnn\\lib\\site-packages\\theano\\configparser.py\u001b[0m in \u001b[0;36m__set__\u001b[1;34m(self, cls, val)\u001b[0m\n\u001b[0;32m    333\u001b[0m         \u001b[1;31m# print \"SETTING PARAM\", self.fullname,(cls), val\u001b[0m\u001b[1;33m\u001b[0m\u001b[1;33m\u001b[0m\u001b[0m\n\u001b[0;32m    334\u001b[0m         \u001b[1;32mif\u001b[0m \u001b[0mself\u001b[0m\u001b[1;33m.\u001b[0m\u001b[0mfilter\u001b[0m\u001b[1;33m:\u001b[0m\u001b[1;33m\u001b[0m\u001b[0m\n\u001b[1;32m--> 335\u001b[1;33m             \u001b[0mself\u001b[0m\u001b[1;33m.\u001b[0m\u001b[0mval\u001b[0m \u001b[1;33m=\u001b[0m \u001b[0mself\u001b[0m\u001b[1;33m.\u001b[0m\u001b[0mfilter\u001b[0m\u001b[1;33m(\u001b[0m\u001b[0mval\u001b[0m\u001b[1;33m)\u001b[0m\u001b[1;33m\u001b[0m\u001b[0m\n\u001b[0m\u001b[0;32m    336\u001b[0m         \u001b[1;32melse\u001b[0m\u001b[1;33m:\u001b[0m\u001b[1;33m\u001b[0m\u001b[0m\n\u001b[0;32m    337\u001b[0m             \u001b[0mself\u001b[0m\u001b[1;33m.\u001b[0m\u001b[0mval\u001b[0m \u001b[1;33m=\u001b[0m \u001b[0mval\u001b[0m\u001b[1;33m\u001b[0m\u001b[0m\n",
      "\u001b[1;32mC:\\Anaconda3\\envs\\cnn\\lib\\site-packages\\theano\\configdefaults.py\u001b[0m in \u001b[0;36mfilter_nvcc_flags\u001b[1;34m(s)\u001b[0m\n\u001b[0;32m    200\u001b[0m             \u001b[1;34m\" space between them. e.g.: '--machine 64' is not supported,\"\u001b[0m\u001b[1;33m\u001b[0m\u001b[0m\n\u001b[0;32m    201\u001b[0m             \u001b[1;34m\" but '--machine=64' is supported. Please add the '=' symbol.\"\u001b[0m\u001b[1;33m\u001b[0m\u001b[0m\n\u001b[1;32m--> 202\u001b[1;33m             \" nvcc.flags value is '%s'\" % s)\n\u001b[0m\u001b[0;32m    203\u001b[0m     \u001b[1;32mreturn\u001b[0m \u001b[1;34m' '\u001b[0m\u001b[1;33m.\u001b[0m\u001b[0mjoin\u001b[0m\u001b[1;33m(\u001b[0m\u001b[0mflags\u001b[0m\u001b[1;33m)\u001b[0m\u001b[1;33m\u001b[0m\u001b[0m\n\u001b[0;32m    204\u001b[0m \u001b[1;33m\u001b[0m\u001b[0m\n",
      "\u001b[1;31mValueError\u001b[0m: Theano nvcc.flags support only parameter/value pairs without space between them. e.g.: '--machine 64' is not supported, but '--machine=64' is supported. Please add the '=' symbol. nvcc.flags value is 'C:\\Anaconda3\\libs'"
     ]
    }
   ],
   "source": [
    "from keras.models import Sequential\n",
    "from keras.layers.core import Activation, Dense, Dropout"
   ]
  },
  {
   "cell_type": "code",
   "execution_count": 17,
   "metadata": {
    "collapsed": false
   },
   "outputs": [
    {
     "name": "stdout",
     "output_type": "stream",
     "text": [
      "Epoch 1/50\n",
      "379/379 [==============================] - 0s - loss: 0.6886 - acc: 0.6174     \n",
      "Epoch 2/50\n",
      "379/379 [==============================] - 0s - loss: 0.6442 - acc: 0.6227     \n",
      "Epoch 3/50\n",
      "379/379 [==============================] - 0s - loss: 0.5826 - acc: 0.6517     \n",
      "Epoch 4/50\n",
      "379/379 [==============================] - 0s - loss: 0.5194 - acc: 0.7335     \n",
      "Epoch 5/50\n",
      "379/379 [==============================] - 0s - loss: 0.4792 - acc: 0.7942     \n",
      "Epoch 6/50\n",
      "379/379 [==============================] - 0s - loss: 0.4511 - acc: 0.7995     \n",
      "Epoch 7/50\n",
      "379/379 [==============================] - 0s - loss: 0.4051 - acc: 0.8575     \n",
      "Epoch 8/50\n",
      "379/379 [==============================] - 0s - loss: 0.4065 - acc: 0.8522     \n",
      "Epoch 9/50\n",
      "379/379 [==============================] - 0s - loss: 0.3715 - acc: 0.8602     \n",
      "Epoch 10/50\n",
      "379/379 [==============================] - 0s - loss: 0.3313 - acc: 0.8839     \n",
      "Epoch 11/50\n",
      "379/379 [==============================] - 0s - loss: 0.3214 - acc: 0.9208     \n",
      "Epoch 12/50\n",
      "379/379 [==============================] - 0s - loss: 0.3126 - acc: 0.8997     \n",
      "Epoch 13/50\n",
      "379/379 [==============================] - 0s - loss: 0.2998 - acc: 0.9050     \n",
      "Epoch 14/50\n",
      "379/379 [==============================] - 0s - loss: 0.2898 - acc: 0.9024     \n",
      "Epoch 15/50\n",
      "379/379 [==============================] - 0s - loss: 0.2688 - acc: 0.9129     \n",
      "Epoch 16/50\n",
      "379/379 [==============================] - 0s - loss: 0.2750 - acc: 0.8945     \n",
      "Epoch 17/50\n",
      "379/379 [==============================] - 0s - loss: 0.2492 - acc: 0.9077     \n",
      "Epoch 18/50\n",
      "379/379 [==============================] - 0s - loss: 0.2612 - acc: 0.9129     \n",
      "Epoch 19/50\n",
      "379/379 [==============================] - 0s - loss: 0.2477 - acc: 0.9129     \n",
      "Epoch 20/50\n",
      "379/379 [==============================] - 0s - loss: 0.2396 - acc: 0.9235     \n",
      "Epoch 21/50\n",
      "379/379 [==============================] - 0s - loss: 0.2298 - acc: 0.9288     \n",
      "Epoch 22/50\n",
      "379/379 [==============================] - 0s - loss: 0.2329 - acc: 0.9235     \n",
      "Epoch 23/50\n",
      "379/379 [==============================] - 0s - loss: 0.2298 - acc: 0.9103     \n",
      "Epoch 24/50\n",
      "379/379 [==============================] - 0s - loss: 0.2078 - acc: 0.9182     \n",
      "Epoch 25/50\n",
      "379/379 [==============================] - 0s - loss: 0.2178 - acc: 0.9367     \n",
      "Epoch 26/50\n",
      "379/379 [==============================] - 0s - loss: 0.2152 - acc: 0.9314     \n",
      "Epoch 27/50\n",
      "379/379 [==============================] - 0s - loss: 0.1922 - acc: 0.9420     \n",
      "Epoch 28/50\n",
      "379/379 [==============================] - 0s - loss: 0.1952 - acc: 0.9288     \n",
      "Epoch 29/50\n",
      "379/379 [==============================] - 0s - loss: 0.1911 - acc: 0.9367     \n",
      "Epoch 30/50\n",
      "379/379 [==============================] - 0s - loss: 0.2014 - acc: 0.9393     \n",
      "Epoch 31/50\n",
      "379/379 [==============================] - 0s - loss: 0.1894 - acc: 0.9446     \n",
      "Epoch 32/50\n",
      "379/379 [==============================] - 0s - loss: 0.1721 - acc: 0.9472     \n",
      "Epoch 33/50\n",
      "379/379 [==============================] - 0s - loss: 0.1906 - acc: 0.9499     \n",
      "Epoch 34/50\n",
      "379/379 [==============================] - 0s - loss: 0.1611 - acc: 0.9340     \n",
      "Epoch 35/50\n",
      "379/379 [==============================] - 0s - loss: 0.1758 - acc: 0.9420     \n",
      "Epoch 36/50\n",
      "379/379 [==============================] - 0s - loss: 0.1698 - acc: 0.9340     \n",
      "Epoch 37/50\n",
      "379/379 [==============================] - 0s - loss: 0.1656 - acc: 0.9367     \n",
      "Epoch 38/50\n",
      "379/379 [==============================] - 0s - loss: 0.1721 - acc: 0.9446     \n",
      "Epoch 39/50\n",
      "379/379 [==============================] - 0s - loss: 0.1529 - acc: 0.9525     \n",
      "Epoch 40/50\n",
      "379/379 [==============================] - 0s - loss: 0.1599 - acc: 0.9499     \n",
      "Epoch 41/50\n",
      "379/379 [==============================] - 0s - loss: 0.1554 - acc: 0.9446     \n",
      "Epoch 42/50\n",
      "379/379 [==============================] - 0s - loss: 0.1482 - acc: 0.9551     \n",
      "Epoch 43/50\n",
      "379/379 [==============================] - 0s - loss: 0.1399 - acc: 0.9367     \n",
      "Epoch 44/50\n",
      "379/379 [==============================] - 0s - loss: 0.1563 - acc: 0.9499     \n",
      "Epoch 45/50\n",
      "379/379 [==============================] - 0s - loss: 0.1606 - acc: 0.9420     \n",
      "Epoch 46/50\n",
      "379/379 [==============================] - 0s - loss: 0.1461 - acc: 0.9578     \n",
      "Epoch 47/50\n",
      "379/379 [==============================] - 0s - loss: 0.1348 - acc: 0.9499     \n",
      "Epoch 48/50\n",
      "379/379 [==============================] - 0s - loss: 0.1452 - acc: 0.9578     \n",
      "Epoch 49/50\n",
      "379/379 [==============================] - 0s - loss: 0.1376 - acc: 0.9551     \n",
      "Epoch 50/50\n",
      "379/379 [==============================] - 0s - loss: 0.1342 - acc: 0.9499     \n",
      "56/56 [==============================] - 0s     \n"
     ]
    },
    {
     "data": {
      "text/plain": [
       "[0.19430702445762499, 0.9285714285714286]"
      ]
     },
     "execution_count": 17,
     "metadata": {},
     "output_type": "execute_result"
    }
   ],
   "source": [
    "np.random.seed(1337)\n",
    "model = Sequential()\n",
    "model.add(Dense(8, input_dim=16, activation='sigmoid'))\n",
    "model.add(Dropout(0.25))\n",
    "model.add(Dense(1, activation='sigmoid'))\n",
    "model.compile(optimizer='adadelta',\n",
    "              loss='binary_crossentropy',\n",
    "              metrics=['accuracy'])\n",
    "model.fit(trainX, trainY, nb_epoch=50)\n",
    "score = model.evaluate(testX, testY)\n",
    "score"
   ]
  },
  {
   "cell_type": "code",
   "execution_count": 18,
   "metadata": {
    "collapsed": false
   },
   "outputs": [
    {
     "name": "stdout",
     "output_type": "stream",
     "text": [
      "accuracy: 52 / 56\n"
     ]
    }
   ],
   "source": [
    "predY = model.predict(testX)\n",
    "print(\"accuracy:\", len([1 for py,y in zip(predY, testY) if np.round(py) == y]), \"/\", len(predY))"
   ]
  },
  {
   "cell_type": "code",
   "execution_count": 8,
   "metadata": {
    "collapsed": false
   },
   "outputs": [],
   "source": [
    "import numpy as np\n",
    "import arff\n",
    "\n",
    "def load(fname, parser) :\n",
    "    X = list(); Y = list();\n",
    "    for row in arff.load(fname) :\n",
    "        row = list(row)\n",
    "        x, y = parser(row)\n",
    "        X.append(x)\n",
    "        Y.append(y)\n",
    "    return X, Y\n",
    "\n",
    "def dreverse(d) :\n",
    "    return dict((y,x) for x,y in d.items())\n",
    "\n",
    "def parser(row, dfeat, dlabel) :\n",
    "    return [dfeat[c] for c in row[:-1]], [dlabel[row[-1]]]\n"
   ]
  },
  {
   "cell_type": "code",
   "execution_count": 11,
   "metadata": {
    "collapsed": false
   },
   "outputs": [],
   "source": [
    "dyn2num = {\"'y'\":1, \"'n'\":0}\n",
    "dlabel2num = {\"'democrat'\":0, \"'republican'\":1}\n",
    "vote_parser = lambda row : parser(row, dyn2num, dlabel2num)\n",
    "trainX, trainY = load('../../../toydata/vote_train.arff', vote_parser)\n",
    "testX, testY = load('../../../toydata/vote_test.arff', vote_parser)"
   ]
  },
  {
   "cell_type": "code",
   "execution_count": 12,
   "metadata": {
    "collapsed": false
   },
   "outputs": [
    {
     "data": {
      "text/plain": [
       "16"
      ]
     },
     "execution_count": 12,
     "metadata": {},
     "output_type": "execute_result"
    }
   ],
   "source": [
    "len(testX[0])"
   ]
  },
  {
   "cell_type": "code",
   "execution_count": null,
   "metadata": {
    "collapsed": true
   },
   "outputs": [],
   "source": []
  }
 ],
 "metadata": {
  "kernelspec": {
   "display_name": "Python 3",
   "language": "python",
   "name": "python3"
  },
  "language_info": {
   "codemirror_mode": {
    "name": "ipython",
    "version": 3
   },
   "file_extension": ".py",
   "mimetype": "text/x-python",
   "name": "python",
   "nbconvert_exporter": "python",
   "pygments_lexer": "ipython3",
   "version": "3.4.4"
  }
 },
 "nbformat": 4,
 "nbformat_minor": 0
}
