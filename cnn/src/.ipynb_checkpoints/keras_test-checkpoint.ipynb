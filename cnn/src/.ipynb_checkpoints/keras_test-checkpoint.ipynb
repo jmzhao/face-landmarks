{
 "cells": [
  {
   "cell_type": "code",
   "execution_count": null,
   "metadata": {
    "collapsed": false
   },
   "outputs": [],
   "source": [
    "from keras.models import Sequential\n",
    "from keras.layers.core import Activation, Dense"
   ]
  },
  {
   "cell_type": "code",
   "execution_count": 97,
   "metadata": {
    "collapsed": true
   },
   "outputs": [],
   "source": [
    "model = Sequential()\n",
    "model.add(Dropout(0.25, input_dim=16))\n",
    "model.add(Dense(8, activation='sigmoid'))\n",
    "model.add(Dropout(0.))\n",
    "model.add(Dense(1, activation='sigmoid'))\n",
    "model.compile(optimizer='adadelta',\n",
    "              loss='binary_crossentropy',\n",
    "              metrics=['accuracy'])"
   ]
  },
  {
   "cell_type": "code",
   "execution_count": 100,
   "metadata": {
    "collapsed": false
   },
   "outputs": [
    {
     "name": "stdout",
     "output_type": "stream",
     "text": [
      "Epoch 1/50\n",
      "379/379 [==============================] - 0s - loss: 0.2812 - acc: 0.9050     \n",
      "Epoch 2/50\n",
      "379/379 [==============================] - 0s - loss: 0.2681 - acc: 0.9103     \n",
      "Epoch 3/50\n",
      "379/379 [==============================] - 0s - loss: 0.2567 - acc: 0.9129     \n",
      "Epoch 4/50\n",
      "379/379 [==============================] - 0s - loss: 0.2472 - acc: 0.9103     \n",
      "Epoch 5/50\n",
      "379/379 [==============================] - 0s - loss: 0.2376 - acc: 0.9182     \n",
      "Epoch 6/50\n",
      "379/379 [==============================] - 0s - loss: 0.2293 - acc: 0.9156     \n",
      "Epoch 7/50\n",
      "379/379 [==============================] - 0s - loss: 0.2220 - acc: 0.9235     \n",
      "Epoch 8/50\n",
      "379/379 [==============================] - 0s - loss: 0.2153 - acc: 0.9235     \n",
      "Epoch 9/50\n",
      "379/379 [==============================] - 0s - loss: 0.2086 - acc: 0.9288     \n",
      "Epoch 10/50\n",
      "379/379 [==============================] - 0s - loss: 0.2024 - acc: 0.9340     \n",
      "Epoch 11/50\n",
      "379/379 [==============================] - 0s - loss: 0.1971 - acc: 0.9340     \n",
      "Epoch 12/50\n",
      "379/379 [==============================] - 0s - loss: 0.1913 - acc: 0.9393     \n",
      "Epoch 13/50\n",
      "379/379 [==============================] - 0s - loss: 0.1862 - acc: 0.9393     \n",
      "Epoch 14/50\n",
      "379/379 [==============================] - 0s - loss: 0.1810 - acc: 0.9420     \n",
      "Epoch 15/50\n",
      "379/379 [==============================] - 0s - loss: 0.1769 - acc: 0.9472     \n",
      "Epoch 16/50\n",
      "379/379 [==============================] - 0s - loss: 0.1728 - acc: 0.9420     \n",
      "Epoch 17/50\n",
      "379/379 [==============================] - 0s - loss: 0.1680 - acc: 0.9499     \n",
      "Epoch 18/50\n",
      "379/379 [==============================] - 0s - loss: 0.1640 - acc: 0.9499     \n",
      "Epoch 19/50\n",
      "379/379 [==============================] - 0s - loss: 0.1599 - acc: 0.9499     \n",
      "Epoch 20/50\n",
      "379/379 [==============================] - 0s - loss: 0.1561 - acc: 0.9499     \n",
      "Epoch 21/50\n",
      "379/379 [==============================] - 0s - loss: 0.1521 - acc: 0.9499     \n",
      "Epoch 22/50\n",
      "379/379 [==============================] - 0s - loss: 0.1485 - acc: 0.9499     \n",
      "Epoch 23/50\n",
      "379/379 [==============================] - 0s - loss: 0.1447 - acc: 0.9499     \n",
      "Epoch 24/50\n",
      "379/379 [==============================] - 0s - loss: 0.1417 - acc: 0.9499     \n",
      "Epoch 25/50\n",
      "379/379 [==============================] - 0s - loss: 0.1383 - acc: 0.9525     \n",
      "Epoch 26/50\n",
      "379/379 [==============================] - 0s - loss: 0.1348 - acc: 0.9551     \n",
      "Epoch 27/50\n",
      "379/379 [==============================] - 0s - loss: 0.1323 - acc: 0.9551     \n",
      "Epoch 28/50\n",
      "379/379 [==============================] - 0s - loss: 0.1294 - acc: 0.9551     \n",
      "Epoch 29/50\n",
      "379/379 [==============================] - 0s - loss: 0.1265 - acc: 0.9551     \n",
      "Epoch 30/50\n",
      "379/379 [==============================] - 0s - loss: 0.1237 - acc: 0.9551     \n",
      "Epoch 31/50\n",
      "379/379 [==============================] - 0s - loss: 0.1211 - acc: 0.9551     \n",
      "Epoch 32/50\n",
      "379/379 [==============================] - 0s - loss: 0.1186 - acc: 0.9578     \n",
      "Epoch 33/50\n",
      "379/379 [==============================] - 0s - loss: 0.1164 - acc: 0.9578     \n",
      "Epoch 34/50\n",
      "379/379 [==============================] - 0s - loss: 0.1142 - acc: 0.9578     \n",
      "Epoch 35/50\n",
      "379/379 [==============================] - 0s - loss: 0.1116 - acc: 0.9578     \n",
      "Epoch 36/50\n",
      "379/379 [==============================] - 0s - loss: 0.1093 - acc: 0.9578     \n",
      "Epoch 37/50\n",
      "379/379 [==============================] - 0s - loss: 0.1070 - acc: 0.9578     \n",
      "Epoch 38/50\n",
      "379/379 [==============================] - 0s - loss: 0.1053 - acc: 0.9631     \n",
      "Epoch 39/50\n",
      "379/379 [==============================] - 0s - loss: 0.1029 - acc: 0.9631     \n",
      "Epoch 40/50\n",
      "379/379 [==============================] - 0s - loss: 0.1014 - acc: 0.9683     \n",
      "Epoch 41/50\n",
      "379/379 [==============================] - 0s - loss: 0.0992 - acc: 0.9683     \n",
      "Epoch 42/50\n",
      "379/379 [==============================] - 0s - loss: 0.0973 - acc: 0.9683     \n",
      "Epoch 43/50\n",
      "379/379 [==============================] - 0s - loss: 0.0960 - acc: 0.9657     \n",
      "Epoch 44/50\n",
      "379/379 [==============================] - 0s - loss: 0.0945 - acc: 0.9657     \n",
      "Epoch 45/50\n",
      "379/379 [==============================] - 0s - loss: 0.0925 - acc: 0.9710     \n",
      "Epoch 46/50\n",
      "379/379 [==============================] - 0s - loss: 0.0906 - acc: 0.9736     \n",
      "Epoch 47/50\n",
      "379/379 [==============================] - 0s - loss: 0.0894 - acc: 0.9763     \n",
      "Epoch 48/50\n",
      "379/379 [==============================] - 0s - loss: 0.0880 - acc: 0.9736     \n",
      "Epoch 49/50\n",
      "379/379 [==============================] - 0s - loss: 0.0867 - acc: 0.9763     \n",
      "Epoch 50/50\n",
      "379/379 [==============================] - 0s - loss: 0.0853 - acc: 0.9789     \n"
     ]
    },
    {
     "data": {
      "text/plain": [
       "<keras.callbacks.History at 0x10b2d6588>"
      ]
     },
     "execution_count": 100,
     "metadata": {},
     "output_type": "execute_result"
    }
   ],
   "source": [
    "model.fit(trainX, trainY, nb_epoch=50)"
   ]
  },
  {
   "cell_type": "code",
   "execution_count": 101,
   "metadata": {
    "collapsed": false
   },
   "outputs": [
    {
     "name": "stdout",
     "output_type": "stream",
     "text": [
      "accuracy: 52 / 56\n"
     ]
    }
   ],
   "source": [
    "predY = model.predict(testX)\n",
    "print(\"accuracy:\", len([1 for py,y in zip(predY, testY) if np.round(py) == y]), \"/\", len(predY))"
   ]
  },
  {
   "cell_type": "code",
   "execution_count": null,
   "metadata": {
    "collapsed": false
   },
   "outputs": [],
   "source": [
    "import numpy as np\n",
    "import arff\n",
    "\n",
    "def load(fname, parser) :\n",
    "    X = list(); Y = list();\n",
    "    for row in arff.load(fname) :\n",
    "        row = list(row)\n",
    "        x, y = parser(row)\n",
    "        X.append(x)\n",
    "        Y.append(y)\n",
    "    return X, Y\n",
    "\n",
    "def dreverse(d) :\n",
    "    return dict((y,x) for x,y in d.items())\n",
    "\n",
    "def parser(row, dfeat, dlabel) :\n",
    "    return [dfeat[c] for c in row[:-1]], [dlabel[row[-1]]]\n"
   ]
  },
  {
   "cell_type": "code",
   "execution_count": null,
   "metadata": {
    "collapsed": false
   },
   "outputs": [],
   "source": [
    "dyn2num = {\"'y'\":1, \"'n'\":0}\n",
    "dlabel2num = {\"'democrat'\":0, \"'republican'\":1}\n",
    "vote_parser = lambda row : parser(row, dyn2num, dlabel2num)\n",
    "trainX, trainY = load('../toydata/vote_train.arff', vote_parser)\n",
    "testX, testY = load('../toydata/vote_test.arff', vote_parser)"
   ]
  },
  {
   "cell_type": "code",
   "execution_count": null,
   "metadata": {
    "collapsed": false
   },
   "outputs": [],
   "source": [
    "len(testX[0])"
   ]
  },
  {
   "cell_type": "code",
   "execution_count": null,
   "metadata": {
    "collapsed": true
   },
   "outputs": [],
   "source": []
  }
 ],
 "metadata": {
  "kernelspec": {
   "display_name": "Python 3",
   "language": "python",
   "name": "python3"
  },
  "language_info": {
   "codemirror_mode": {
    "name": "ipython",
    "version": 3
   },
   "file_extension": ".py",
   "mimetype": "text/x-python",
   "name": "python",
   "nbconvert_exporter": "python",
   "pygments_lexer": "ipython3",
   "version": "3.5.1"
  }
 },
 "nbformat": 4,
 "nbformat_minor": 0
}
