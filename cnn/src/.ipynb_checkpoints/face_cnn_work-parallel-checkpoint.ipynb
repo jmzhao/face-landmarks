{
 "cells": [
  {
   "cell_type": "code",
   "execution_count": 69,
   "metadata": {
    "collapsed": false
   },
   "outputs": [
    {
     "name": "stdout",
     "output_type": "stream",
     "text": [
      "Test score: 11.5112075555\n",
      "Test accuracy: 0.98126171143\n"
     ]
    }
   ],
   "source": [
    "'''Trains a simple convnet on the face landmark dataset.\n",
    "Adapted from Keras MNIST CNN example code.\n",
    "'''\n",
    "\n",
    "import numpy as np\n",
    "np.random.seed(1337)  # for reproducibility\n",
    "\n",
    "from keras.models import Model\n",
    "from keras.layers import Input, Dense, Dropout, Activation, Flatten, Reshape\n",
    "from keras.layers.convolutional import Convolution2D, MaxPooling2D\n",
    "from keras.utils import np_utils\n",
    "\n",
    "\n",
    "batch_size = 10\n",
    "nb_landmarks = 5\n",
    "nb_epoch = 500\n",
    "nb_verbose = 0\n",
    "#nb_validation_data = (X_test, _Y_test)\n",
    "nb_validation_data = None\n",
    "\n",
    "# input image dimensions\n",
    "img_chns, img_rows, img_cols = 3, 20, 20\n",
    "# number of convolutional filters to use\n",
    "nb_filters = [32, 64]\n",
    "# size of pooling area for max pooling\n",
    "nb_pool_sizes = [(2, 2), (2, 2)]\n",
    "# convolution kernel size\n",
    "nb_conv = 3\n",
    "# activator\n",
    "nb_activator = 'tanh'\n",
    "# number of fully connected neurons in the penultimate layer\n",
    "nb_penu_neurons = 256\n",
    "# size of output vector, four \"corner values\" for each landmark\n",
    "nb_output_size = nb_landmarks * 4\n",
    "\n",
    "input_img = Input(shape=(img_chns, img_rows, img_cols), dtype='float32', name='input_img')\n",
    "\n",
    "x = input_img\n",
    "x = (Convolution2D(nb_filters[0], nb_conv, nb_conv))(x)\n",
    "x = (Activation(nb_activator))(x)\n",
    "x = (MaxPooling2D(pool_size=nb_pool_sizes[0]))(x)\n",
    "x = (Convolution2D(nb_filters[1], nb_conv, nb_conv))(x)\n",
    "x = (Activation(nb_activator))(x)\n",
    "x = (MaxPooling2D(pool_size=nb_pool_sizes[1]))(x)\n",
    "x = (Dropout(0.25))(x)\n",
    "\n",
    "x = (Flatten())(x)\n",
    "x = (Dense(nb_penu_neurons))(x)\n",
    "x = (Activation(nb_activator))(x)\n",
    "x = (Dropout(0.5))(x)\n",
    "output_landmarks = [Activation('sigmoid')((Dense(4, name='landmark-%d'%(_)))(x)) for _ in range(nb_landmarks)]\n",
    "\n",
    "model = Model(input=input_img, output=output_landmarks)\n",
    "\n",
    "model.compile(loss='categorical_crossentropy',\n",
    "              loss_weights=[1, 1, 5, 1, 1],\n",
    "              optimizer='adadelta',\n",
    "              metrics=['accuracy'])\n",
    "\n",
    "model.fit(X_train, _Y_train, batch_size=batch_size, nb_epoch=nb_epoch,\n",
    "          verbose=nb_verbose, validation_data=nb_validation_data)\n",
    "\n",
    "score = model.evaluate(X_test, _Y_test, verbose=0)\n",
    "print('Test score:', score[0])\n",
    "print('Test accuracy:', score[1])"
   ]
  },
  {
   "cell_type": "code",
   "execution_count": 70,
   "metadata": {
    "collapsed": false
   },
   "outputs": [],
   "source": [
    "# save model\n",
    "model_filename = '../model/corners-all(ratio-0.8,rand-1337),20px,500ep'\n",
    "print(model.to_json(), file=open(model_filename+'.json', 'w'))\n",
    "model.save_weights(model_filename+'.weight')"
   ]
  },
  {
   "cell_type": "code",
   "execution_count": 71,
   "metadata": {
    "collapsed": false
   },
   "outputs": [],
   "source": [
    "_Y_pred = model.predict(X_test)\n",
    "Y_pred = Y_model_to_data(_Y_pred)"
   ]
  },
  {
   "cell_type": "code",
   "execution_count": 73,
   "metadata": {
    "collapsed": false
   },
   "outputs": [],
   "source": [
    "# observe learning results\n",
    "import random\n",
    "y_converter = lambda y : np.array(list(map(corners_to_coord, y)))\n",
    "\n",
    "plt.figure()\n",
    "for iplt, i in enumerate(random.sample(range(len(Y_test)), 30)) :\n",
    "    plt.subplot(5, 6, iplt+1)\n",
    "    img = X_test[i].transpose((1,2,0))\n",
    "    io.imshow(img)\n",
    "    pts2 = y_converter(Y_test[i])\n",
    "    plt.plot(pts2[:,0]*img_rows, pts2[:,1]*img_cols, 'o')\n",
    "    pts = y_converter(Y_pred[i])\n",
    "    plt.plot(pts[:,0]*img_rows, pts[:,1]*img_cols, 'ro')\n",
    "    plt.axis('off')\n",
    "plt.tight_layout()\n",
    "io.show()"
   ]
  },
  {
   "cell_type": "code",
   "execution_count": 41,
   "metadata": {
    "collapsed": true
   },
   "outputs": [],
   "source": [
    "def Y_data_to_model(Y) :\n",
    "    return list(np.transpose(Y, (1,0,2)))\n",
    "def Y_model_to_data(Y) :\n",
    "    return np.transpose(np.array(Y), (1,0,2))"
   ]
  },
  {
   "cell_type": "code",
   "execution_count": 1,
   "metadata": {
    "collapsed": false
   },
   "outputs": [
    {
     "name": "stdout",
     "output_type": "stream",
     "text": [
      "X shape: (8003, 3, 20, 20)\n",
      "Y shape: (8003, 5, 2)\n"
     ]
    }
   ],
   "source": [
    "from face_data import *"
   ]
  },
  {
   "cell_type": "code",
   "execution_count": 17,
   "metadata": {
    "collapsed": false
   },
   "outputs": [],
   "source": [
    "def coord_to_corners(coord) :\n",
    "    x, y = coord\n",
    "    return np.array([(1-x)*(1-y), (1-x)*y, x*y, x*(1-y)])\n",
    "def corners_to_coord(corners) :\n",
    "    x0y0, x0y1, x1y1, x1y0 = corners\n",
    "    return np.array([x1y1+x1y0, x1y1+x0y1]) / sum(corners)"
   ]
  },
  {
   "cell_type": "code",
   "execution_count": 3,
   "metadata": {
    "collapsed": false
   },
   "outputs": [],
   "source": [
    "Y = np.array([[coord_to_corners(p) for p in pts] for pts in Y])"
   ]
  },
  {
   "cell_type": "code",
   "execution_count": 4,
   "metadata": {
    "collapsed": false
   },
   "outputs": [
    {
     "name": "stdout",
     "output_type": "stream",
     "text": [
      "X_train shape: (6402, 3, 20, 20)\n",
      "Y_train shape: (6402, 5, 4)\n",
      "6402 train samples\n",
      "1601 test samples\n"
     ]
    }
   ],
   "source": [
    "(X_train, Y_train), (X_test, Y_test) = split_data(X, Y, ratio_train=0.8, rand_seed=1337)"
   ]
  },
  {
   "cell_type": "code",
   "execution_count": 42,
   "metadata": {
    "collapsed": false
   },
   "outputs": [],
   "source": [
    "_Y_train = Y_data_to_model(Y_train)\n",
    "_Y_test = Y_data_to_model(Y_test)"
   ]
  },
  {
   "cell_type": "code",
   "execution_count": 60,
   "metadata": {
    "collapsed": false
   },
   "outputs": [
    {
     "data": {
      "text/plain": [
       "array([[ -8.30362225,   8.62354279,   7.49342823,  -7.54829741],\n",
       "       [ 15.6356926 ,   4.24076223,  10.00317478,  34.21366882],\n",
       "       [ 23.66015053,  18.45369911,  18.67684364,  23.69833374],\n",
       "       [-15.26077366, -26.44235802, -13.85803699,  -7.93753767],\n",
       "       [ -8.21008778, -13.83751297, -27.69595337, -16.66737747]])"
      ]
     },
     "execution_count": 60,
     "metadata": {},
     "output_type": "execute_result"
    }
   ],
   "source": [
    "Y_pred[0]"
   ]
  },
  {
   "cell_type": "code",
   "execution_count": null,
   "metadata": {
    "collapsed": true
   },
   "outputs": [],
   "source": []
  }
 ],
 "metadata": {
  "kernelspec": {
   "display_name": "Python 3",
   "language": "python",
   "name": "python3"
  },
  "language_info": {
   "codemirror_mode": {
    "name": "ipython",
    "version": 3
   },
   "file_extension": ".py",
   "mimetype": "text/x-python",
   "name": "python",
   "nbconvert_exporter": "python",
   "pygments_lexer": "ipython3",
   "version": "3.4.4"
  }
 },
 "nbformat": 4,
 "nbformat_minor": 0
}
