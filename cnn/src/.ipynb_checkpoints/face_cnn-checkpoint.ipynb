{
 "cells": [
  {
   "cell_type": "code",
   "execution_count": null,
   "metadata": {
    "collapsed": false
   },
   "outputs": [],
   "source": [
    "'''Trains a simple convnet on the face landmark dataset.\n",
    "Adapted from Keras MNIST CNN example code.\n",
    "'''\n",
    "\n",
    "import numpy as np\n",
    "np.random.seed(1337)  # for reproducibility\n",
    "\n",
    "from keras.models import Sequential\n",
    "from keras.layers.core import Dense, Dropout, Activation, Flatten\n",
    "from keras.layers.convolutional import Convolution2D, MaxPooling2D\n",
    "from keras.utils import np_utils\n",
    "\n",
    "batch_size = 128\n",
    "nb_landmarks = 5\n",
    "nb_epoch = 50\n",
    "\n",
    "# input image dimensions\n",
    "img_chns, img_rows, img_cols = 3, 16, 16\n",
    "# number of convolutional filters to use\n",
    "nb_filters = [32, 64]\n",
    "# size of pooling area for max pooling\n",
    "nb_pool_sizes = [(2, 2), (2, 2)]\n",
    "# convolution kernel size\n",
    "nb_conv = 3\n",
    "# number of fully connected neurons in the penultimate layer\n",
    "nb_penu_neurons = 128\n",
    "# size of output vector, two coordinates for each landmark\n",
    "nb_output_size = nb_landmarks * 2\n",
    "\n",
    "\n",
    "model = Sequential()\n",
    "\n",
    "model.add(Convolution2D(nb_filters[0], nb_conv, nb_conv,\n",
    "                        border_mode='valid',\n",
    "                        input_shape=(img_chns, img_rows, img_cols)))\n",
    "model.add(Activation('relu'))\n",
    "model.add(MaxPooling2D(pool_size=nb_pool_sizes[0]))\n",
    "model.add(Convolution2D(nb_filters[1], nb_conv, nb_conv))\n",
    "model.add(Activation('relu'))\n",
    "model.add(MaxPooling2D(pool_size=nb_pool_sizes[1]))\n",
    "model.add(Dropout(0.25))\n",
    "\n",
    "model.add(Flatten())\n",
    "model.add(Dense(nb_penu_neurons))\n",
    "model.add(Activation('relu'))\n",
    "model.add(Dropout(0.5))\n",
    "model.add(Dense(nb_output_size))\n",
    "\n",
    "model.compile(loss='mse',\n",
    "              optimizer='adadelta',\n",
    "              metrics=['accuracy'])\n",
    "\n",
    "model.fit(X_train, Y_train, batch_size=batch_size, nb_epoch=nb_epoch,\n",
    "          verbose=1, validation_data=(X_test, Y_test))\n",
    "score = model.evaluate(X_test, Y_test, verbose=0)\n",
    "print('Test score:', score[0])\n",
    "print('Test accuracy:', score[1])"
   ]
  },
  {
   "cell_type": "code",
   "execution_count": null,
   "metadata": {
    "collapsed": false
   },
   "outputs": [],
   "source": [
    "Y_pred = model.predict(X_test)"
   ]
  },
  {
   "cell_type": "code",
   "execution_count": null,
   "metadata": {
    "collapsed": false
   },
   "outputs": [],
   "source": [
    "# observe learning results\n",
    "plt.figure()\n",
    "for i in range(len(Y_test)) :\n",
    "    plt.subplot(5, 6, i+1)\n",
    "    img = X_test[i].transpose((1,2,0))\n",
    "    io.imshow(img)\n",
    "    pts2 = Y_test[i].reshape((5,2))\n",
    "    plt.plot(pts2[:,0], pts2[:,1], 'o')\n",
    "    pts = Y_pred[i].reshape((5,2))\n",
    "    plt.plot(pts[:,0], pts[:,1], 'ro')\n",
    "    plt.axis('off')\n",
    "io.show()"
   ]
  },
  {
   "cell_type": "code",
   "execution_count": null,
   "metadata": {
    "collapsed": false
   },
   "outputs": [],
   "source": [
    "# prepare data for CNN\n",
    "from skimage import io\n",
    "import numpy as np\n",
    "\n",
    "# read data, 330 instances\n",
    "dirname = \"../testset/helen/testset_16/\"\n",
    "l = list(dirname+f for f in get_froot_list(dirname))\n",
    "\n",
    "Y = np.array([read_pts(frootname+\".pts\").flatten() for frootname in l])\n",
    "X = np.array([np.transpose(io.imread(frootname+\".jpg\"), (2,0,1)) for frootname in l])\n",
    "X = X.astype('float32')\n",
    "Y = Y.astype('float32')\n",
    "X /= 255\n",
    "\n",
    "# split between train and test sets\n",
    "(X_train, Y_train) = X[:300], Y[:300]\n",
    "(X_test, Y_test) = X[300:], Y[300:]\n",
    "\n",
    "print('X_train shape:', X_train.shape)\n",
    "print(X_train.shape[0], 'train samples')\n",
    "print(X_test.shape[0], 'test samples')"
   ]
  },
  {
   "cell_type": "code",
   "execution_count": null,
   "metadata": {
    "collapsed": false
   },
   "outputs": [],
   "source": [
    "# observe data\n",
    "from skimage import data, io, filters\n",
    "import matplotlib.pyplot as plt\n",
    "import numpy as np\n",
    "\n",
    "frootname = \"../testset/helen/testset_16/\"+\"2973812451_1_16\"\n",
    "pts = read_pts(frootname+\".pts\")\n",
    "image = io.imread(frootname+\".jpg\")\n",
    "io.imshow(image)\n",
    "plt.plot(pts[:,0], pts[:,1], 'o')\n",
    "for i, (x, y) in enumerate(pts) :\n",
    "    plt.text(x, y, str(int(i)))\n",
    "io.show()"
   ]
  },
  {
   "cell_type": "code",
   "execution_count": null,
   "metadata": {
    "collapsed": false
   },
   "outputs": [],
   "source": [
    "# helpers for reading data\n",
    "def get_froot_list(dirname) :\n",
    "    import os\n",
    "    f = []\n",
    "    for (dirpath, dirnames, filenames) in os.walk(dirname):\n",
    "        f.extend(filenames)\n",
    "        break\n",
    "    return sorted(filter(lambda x : len(x)>0, set(fn.split(os.path.extsep)[0] for fn in f)))\n",
    "\n",
    "def read_pts(fname) :\n",
    "    pts = np.array([[float(x) for x in line.split()] for line in open(fname)])\n",
    "    pts = np.array([\n",
    "        sum(pts[i] for i in (37,38,40,41)) / 4,\n",
    "        sum(pts[i] for i in (43,44,46,47)) / 4,\n",
    "        pts[30],\n",
    "        pts[48],\n",
    "        pts[54],\n",
    "    ])[:,:2]\n",
    "    return pts"
   ]
  },
  {
   "cell_type": "code",
   "execution_count": null,
   "metadata": {
    "collapsed": false
   },
   "outputs": [],
   "source": [
    "plt.figure()\n",
    "for i in range(len(Y_test)) :\n",
    "    plt.subplot(5, 6, i+1)\n",
    "    img = X_test[i].transpose((1,2,0))\n",
    "    io.imshow(img)\n",
    "    pts2 = Y_test[i].reshape((5,2))\n",
    "    plt.plot(pts2[:,0], pts2[:,1], 'o')\n",
    "    pts = Y_pred[i].reshape((5,2))\n",
    "    plt.plot(pts[:,0], pts[:,1], 'ro')\n",
    "    plt.axis('off')\n",
    "io.show()"
   ]
  },
  {
   "cell_type": "code",
   "execution_count": null,
   "metadata": {
    "collapsed": false
   },
   "outputs": [],
   "source": [
    "Y_pred"
   ]
  },
  {
   "cell_type": "code",
   "execution_count": null,
   "metadata": {
    "collapsed": true
   },
   "outputs": [],
   "source": []
  }
 ],
 "metadata": {
  "kernelspec": {
   "display_name": "Python 3",
   "language": "python",
   "name": "python3"
  },
  "language_info": {
   "codemirror_mode": {
    "name": "ipython",
    "version": 3
   },
   "file_extension": ".py",
   "mimetype": "text/x-python",
   "name": "python",
   "nbconvert_exporter": "python",
   "pygments_lexer": "ipython3",
   "version": "3.4.4"
  }
 },
 "nbformat": 4,
 "nbformat_minor": 0
}
