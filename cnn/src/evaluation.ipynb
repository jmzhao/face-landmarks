{
 "cells": [
  {
   "cell_type": "code",
   "execution_count": 125,
   "metadata": {
    "collapsed": false
   },
   "outputs": [],
   "source": [
    "import numpy as np\n",
    "import face_data as fd\n",
    "import logging\n",
    "import time\n",
    "\n",
    "logging.basicConfig(level=logging.INFO)"
   ]
  },
  {
   "cell_type": "code",
   "execution_count": 152,
   "metadata": {
    "collapsed": true
   },
   "outputs": [],
   "source": [
    "learned_models = [\n",
    "    {\n",
    "        'model_name' : \"M1\",\n",
    "        'model_fname_root' : \"all(ratio-0.8,rand-1337),20px,500ep\",\n",
    "        'description' : \"the basic one\",\n",
    "        'compile_info' : {\n",
    "            'loss' : 'mse',\n",
    "            'optimizer' : 'adadelta',\n",
    "            'metrics' : ['accuracy'],\n",
    "        },\n",
    "        'pred_converter' : lambda Y_pred : Y_pred.reshape((Y_pred.shape[0], 5, 2)),\n",
    "    },\n",
    "    {\n",
    "        'model_name' : \"M2\",\n",
    "        'model_fname_root' : \"all(ratio-0.8,rand-1337),one-more-Dense-refined,20px,500ep\",\n",
    "        'description' : \"one-more-Dense-refined\",\n",
    "        'compile_info' : {\n",
    "            'loss' : 'mse',\n",
    "            'optimizer' : 'adadelta',\n",
    "            'metrics' : ['accuracy'],\n",
    "        },\n",
    "    },\n",
    "    {\n",
    "        'model_name' : \"M2'\",\n",
    "        'model_fname_root' : \"all(ratio-0.8,rand-1337),one-more-Dense,20px,500ep\",\n",
    "        'description' : \"one-more-Dense\",\n",
    "        'compile_info' : {\n",
    "            'loss' : 'mse',\n",
    "            'optimizer' : 'adadelta',\n",
    "            'metrics' : ['accuracy'],\n",
    "        },\n",
    "    },\n",
    "    {\n",
    "        'model_name' : \"M3\",\n",
    "        'model_fname_root' : \"all(ratio-0.8,rand-1337),3sub-parallel,20px,500ep\",\n",
    "        'description' : \"3submodel\",\n",
    "        'compile_info' : {\n",
    "            'loss' : 'mse',\n",
    "            'optimizer' : 'adadelta',\n",
    "            'metrics' : ['accuracy'],\n",
    "        },\n",
    "    },\n",
    "    {\n",
    "        'model_name' : \"M4\",\n",
    "        'model_fname_root' : \"all(ratio-0.8,rand-1337),single-mask_single,20px,500ep\",\n",
    "        'description' : \"single-mask_single\",\n",
    "        'compile_info' : {\n",
    "            'loss' : 'mse',\n",
    "            'optimizer' : 'adadelta',\n",
    "            'metrics' : ['accuracy'],\n",
    "        },\n",
    "    },\n",
    "    {\n",
    "        'model_name' : \"M4'\",\n",
    "        'model_fname_root' : \"all(ratio-0.8,rand-1337),masked,20px,500ep\",\n",
    "        'description' : \"masked\",\n",
    "        'compile_info' : {\n",
    "            'loss' : 'mse',\n",
    "            'optimizer' : 'adadelta',\n",
    "            'metrics' : ['accuracy'],\n",
    "        },\n",
    "    },\n",
    "    {\n",
    "        'model_name' : \"M1-distr\",\n",
    "        'model_fname_root' : \"all(ratio-0.8,rand-1337),corner128,20px,500ep\",\n",
    "        'description' : \"corner-128\",\n",
    "        'compile_info' : {\n",
    "            'loss' : 'categorical_crossentropy',\n",
    "            'optimizer' : 'adadelta',\n",
    "            'metrics' : ['accuracy'],\n",
    "        },\n",
    "        'pred_converter' : lambda Y_pred : fd.pointwise(Y_pred, fd.corners_to_coord),\n",
    "    },\n",
    "]\n",
    "learned_models.extend([\n",
    "    {\n",
    "        'model_name' : \"M1'-distr\",\n",
    "        'model_fname_root' : \"corners-all(ratio-0.8,rand-1337),20px,500ep\",\n",
    "        'description' : \"corner-256\",\n",
    "        'compile_info' : {\n",
    "            'loss' : 'categorical_crossentropy',\n",
    "            'optimizer' : 'adadelta',\n",
    "            'metrics' : ['accuracy'],\n",
    "        },\n",
    "        'pred_converter' : lambda Y_pred : learned_models[6]['pred_converter'](np.array(Y_pred).transpose((1,0,2))),\n",
    "    },\n",
    "    {\n",
    "        'model_name' : \"M4-distr\",\n",
    "        'model_fname_root' : \"all(ratio-0.8,rand-1337),corner128,single-mask_single,20px,500ep\",\n",
    "        'description' : \"corner,single-mask_single\",\n",
    "        'compile_info' : {\n",
    "            'loss' : 'categorical_crossentropy',\n",
    "            'optimizer' : 'adadelta',\n",
    "            'metrics' : ['accuracy'],\n",
    "        },\n",
    "        'pred_converter' : learned_models[6]['pred_converter'],\n",
    "    },\n",
    "])\n",
    "data_points = [\n",
    "    {\n",
    "        'point_id' : 0,\n",
    "        'point_name' : 'LE',\n",
    "    },\n",
    "    {\n",
    "        'point_id' : 1,\n",
    "        'point_name' : 'RE',\n",
    "    },\n",
    "    {\n",
    "        'point_id' : 2,\n",
    "        'point_name' : 'N',\n",
    "    },\n",
    "    {\n",
    "        'point_id' : 3,\n",
    "        'point_name' : 'LM',\n",
    "    },\n",
    "    {\n",
    "        'point_id' : 4,\n",
    "        'point_name' : 'RM',\n",
    "    },\n",
    "]\n",
    "def calc_error_one_point(p_truth, p_pred) :\n",
    "    return np.sqrt(sum((p_truth - p_pred) ** 2))\n",
    "supported_measures = [\n",
    "    {\n",
    "        'name' : 'error',\n",
    "        'func' : calc_error_one_point,\n",
    "        'stat' : np.mean,\n",
    "    },\n",
    "    {\n",
    "        'name' : 'accuracy005',\n",
    "        'func' : lambda pt, pp : calc_error_one_point(pt, pp) < 0.05,\n",
    "        'stat' : np.mean,\n",
    "    },\n",
    "    {\n",
    "        'name' : 'accuracy010',\n",
    "        'func' : lambda pt, pp : calc_error_one_point(pt, pp) < 0.10,\n",
    "        'stat' : np.mean,\n",
    "    },\n",
    "]"
   ]
  },
  {
   "cell_type": "code",
   "execution_count": 27,
   "metadata": {
    "collapsed": true
   },
   "outputs": [],
   "source": [
    "def load_model(dir_path, model_fname_root, compile_info, **kwargs) :\n",
    "    model_root = dir_path + model_fname_root\n",
    "    import keras.models\n",
    "    model2 = keras.models.model_from_json(open(model_root+'.json').read())\n",
    "    model2.load_weights(model_root+'.weight')\n",
    "    model2.compile(**compile_info)\n",
    "    return model2"
   ]
  },
  {
   "cell_type": "code",
   "execution_count": 150,
   "metadata": {
    "collapsed": true
   },
   "outputs": [],
   "source": [
    "def evaluate_one_point(P_truth, P_pred, measures=supported_measures) :\n",
    "    info = dict()\n",
    "    for m_info in measures :\n",
    "        A = [m_info['func'](p_truth, p_pred) for p_truth, p_pred in zip(P_truth, P_pred)]\n",
    "        a = m_info['stat'](A)\n",
    "        info[m_info['name']] = a \n",
    "    return info\n",
    "def evaluate(Y, Y_pred, pred_converter=None) :\n",
    "    \"\"\"given information of a learned model, return evaluation info\"\"\"\n",
    "    if pred_converter is not None :\n",
    "        Y_pred = pred_converter(Y_pred)\n",
    "    evaluation = [\n",
    "        (data_point_info['point_name'],\n",
    "         evaluate_one_point(Y[:,data_point_info['point_id']], Y_pred[:,data_point_info['point_id']])) \n",
    "        for data_point_info in data_points\n",
    "    ]\n",
    "    return evaluation"
   ]
  },
  {
   "cell_type": "code",
   "execution_count": 28,
   "metadata": {
    "collapsed": false
   },
   "outputs": [],
   "source": []
  },
  {
   "cell_type": "code",
   "execution_count": 67,
   "metadata": {
    "collapsed": false
   },
   "outputs": [
    {
     "name": "stdout",
     "output_type": "stream",
     "text": [
      "X shape: (8003, 3, 20, 20)\n",
      "Y shape: (8003, 5, 2)\n",
      "X_train shape: (6402, 3, 20, 20)\n",
      "Y_train shape: (6402, 5, 2)\n",
      "6402 train samples\n",
      "1601 test samples\n"
     ]
    }
   ],
   "source": [
    "# load data\n",
    "logging.info(\"loading data from: \" + \" \".join(fd.subdirs))\n",
    "X, Y = fd.data('../../../result_20/', fd.subdirs)\n",
    "(X_train, Y_train), (X_test, Y_test) = fd.split_data(X, Y, ratio_train=0.8, rand_seed=1337)"
   ]
  },
  {
   "cell_type": "code",
   "execution_count": 153,
   "metadata": {
    "collapsed": false
   },
   "outputs": [
    {
     "name": "stdout",
     "output_type": "stream",
     "text": [
      "M4-distr\n",
      "corner,single-mask_single\n",
      "time (predict one-by-one): 6.055440713371354\n",
      "time (predict all-at-once): 0.4843977165855904\n",
      "('LE', {'error': 0.021618200453327695, 'accuracy010': 0.9912554653341662, 'accuracy005': 0.94940662086196126})\n",
      "('RE', {'error': 0.021489123720953796, 'accuracy010': 0.99250468457214236, 'accuracy005': 0.94378513429106803})\n",
      "('N', {'error': 0.03407657511027698, 'accuracy010': 0.97439100562148662, 'accuracy005': 0.82136164896939412})\n",
      "('LM', {'error': 0.026725541481053414, 'accuracy010': 0.99000624609618992, 'accuracy005': 0.90505933791380389})\n",
      "('RM', {'error': 0.027002220224728479, 'accuracy010': 0.98688319800124924, 'accuracy005': 0.89818863210493438})\n"
     ]
    }
   ],
   "source": [
    "for model_info in learned_models[-1:] :\n",
    "    logging.info(\"evaluating model %s (%s)\"%(model_info['model_name'], model_info['description']))\n",
    "    print(model_info['model_name'])\n",
    "    print(model_info['description'])\n",
    "    model = load_model(dir_path='../model/', **model_info)\n",
    "    t0 = time.clock()\n",
    "    for x_test in X_test :\n",
    "        y_pred = model.predict(np.array([x_test]))\n",
    "    print('time (predict one-by-one):', time.clock() - t0)\n",
    "    t0 = time.clock()\n",
    "    Y_pred = model.predict(X_test)\n",
    "    print('time (predict all-at-once):', time.clock() - t0)\n",
    "    evaluation = evaluate(Y_test, Y_pred, model_info.get('pred_converter'))\n",
    "    print(*evaluation, sep='\\n')"
   ]
  },
  {
   "cell_type": "code",
   "execution_count": null,
   "metadata": {
    "collapsed": true
   },
   "outputs": [],
   "source": []
  }
 ],
 "metadata": {
  "kernelspec": {
   "display_name": "Python 3",
   "language": "python",
   "name": "python3"
  },
  "language_info": {
   "codemirror_mode": {
    "name": "ipython",
    "version": 3
   },
   "file_extension": ".py",
   "mimetype": "text/x-python",
   "name": "python",
   "nbconvert_exporter": "python",
   "pygments_lexer": "ipython3",
   "version": "3.4.4"
  }
 },
 "nbformat": 4,
 "nbformat_minor": 0
}
