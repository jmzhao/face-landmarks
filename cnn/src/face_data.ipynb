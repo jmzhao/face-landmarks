{
 "cells": [
  {
   "cell_type": "code",
   "execution_count": 5,
   "metadata": {
    "collapsed": true
   },
   "outputs": [],
   "source": [
    "from skimage import data, io, filters\n",
    "import matplotlib.pyplot as plt\n",
    "import numpy as np\n",
    "import os\n",
    "\n",
    "# input image dimensions\n",
    "img_chns, img_rows, img_cols = 3, 20, 20"
   ]
  },
  {
   "cell_type": "code",
   "execution_count": 6,
   "metadata": {
    "collapsed": true
   },
   "outputs": [],
   "source": [
    "# helpers for reading data\n",
    "def get_files(dirname) :\n",
    "    f = []\n",
    "    for (dirpath, dirnames, filenames) in os.walk(dirname):\n",
    "        f.extend(filenames)\n",
    "        break\n",
    "    return f\n",
    "def get_froot_list(dirname) :\n",
    "    '''only read file root name with \".5pts\"'''\n",
    "    f = get_files(dirname)\n",
    "    return sorted(filter(lambda x : len(x)>0, set(fn[:-5] for fn in f if fn[-5:]==\".5pts\")))\n",
    "\n",
    "def is_froot_valid(froot) :\n",
    "    return (os.path.isfile(froot+\".png\") \n",
    "            and io.imread(froot+\".png\").shape == (img_rows, img_cols, img_chns))\n",
    "\n",
    "def read_pts(fname) :\n",
    "    return np.array([[float(x) for x in line.split()] for line in open(fname)])\n",
    "\n",
    "def calc_5_pts(pts) :\n",
    "    return np.array([\n",
    "        sum(pts[i] for i in (37,38,40,41)) / 4,\n",
    "        sum(pts[i] for i in (43,44,46,47)) / 4,\n",
    "        pts[30],\n",
    "        pts[48],\n",
    "        pts[54],\n",
    "    ])[:,:2]"
   ]
  },
  {
   "cell_type": "code",
   "execution_count": 7,
   "metadata": {
    "collapsed": false
   },
   "outputs": [
    {
     "name": "stdout",
     "output_type": "stream",
     "text": [
      "X shape: (8003, 3, 20, 20)\n",
      "Y shape: (8003, 10)\n"
     ]
    }
   ],
   "source": [
    "# prepare data for CNN\n",
    "subdirs = [\n",
    "    '01_Indoor',   'afw',            'helen_trainset',  'lfpw_testset',\n",
    "    '02_Outdoor',  'helen_testset',  'ibug',            'lfpw_trainset',\n",
    "    'multipie'\n",
    "]\n",
    "\n",
    "X = None; Y = None; l = None;\n",
    "for sub in subdirs :\n",
    "    dirname = \"../../../result_20/\" + sub + \"_20/\" \n",
    "    l = list(filter(is_froot_valid, (dirname+f for f in get_froot_list(dirname))))\n",
    "    n = [np.transpose(io.imread(frootname+\".png\"), (2,0,1)) for frootname in l]\n",
    "    X = np.append(X, n, axis=0) if X is not None else np.array(n)\n",
    "    n = [read_pts(frootname+\".5pts\") for frootname in l]\n",
    "    Y = np.append(Y, n, axis=0) if Y is not None else np.array(n)\n",
    "X = X.astype('float32')\n",
    "Y = Y.astype('float32')\n",
    "X /= 255\n",
    "Y[:,:,0] /= img_rows\n",
    "Y[:,:,1] /= img_cols\n",
    "Y = np.array([ps.flatten() for ps in Y])\n",
    "\n",
    "print('X shape:', X.shape)\n",
    "print('Y shape:', Y.shape)"
   ]
  },
  {
   "cell_type": "code",
   "execution_count": 9,
   "metadata": {
    "collapsed": false
   },
   "outputs": [
    {
     "name": "stdout",
     "output_type": "stream",
     "text": [
      "X_train shape: (6402, 3, 20, 20)\n",
      "6402 train samples\n",
      "1601 test samples\n"
     ]
    }
   ],
   "source": [
    "# split between train and test sets\n",
    "def split_data(ratio_train, rand_seed) :\n",
    "    n = len(X)\n",
    "    n_train = int(ratio_train * n)\n",
    "    np.random.seed(rand_seed)\n",
    "    ind = np.random.permutation(n)\n",
    "    ind_train = ind[:n_train]\n",
    "    ind_test = ind[n_train:]\n",
    "    (X_train, Y_train) = X[ind_train], Y[ind_train]\n",
    "    (X_test, Y_test) = X[ind_test], Y[ind_test]\n",
    "\n",
    "    print('X_train shape:', X_train.shape)\n",
    "    print(X_train.shape[0], 'train samples')\n",
    "    print(X_test.shape[0], 'test samples')\n",
    "    \n",
    "    return (X_train, Y_train), (X_test, Y_test)\n",
    "(X_train, Y_train), (X_test, Y_test) = split_data(.8, 1337)"
   ]
  },
  {
   "cell_type": "code",
   "execution_count": 67,
   "metadata": {
    "collapsed": false
   },
   "outputs": [],
   "source": [
    "# genreate .5pts files for .pts with 68 lines \n",
    "dirname = \"../../../result_20/multipie_20/\" \n",
    "l = list(filter(lambda df : len(read_pts(df+\".pts\"))==68,\n",
    "                (dirname+f[:-4] for f in get_files(dirname) if f[-4:]==\".pts\")))\n",
    "_ = [print(\n",
    "        \"\\n\".join(\n",
    "            ' '.join(str(x) for x in pt) \n",
    "            for pt in calc_5_pts(read_pts(frootname+\".pts\"))),\n",
    "        file=open(frootname+\".5pts\", 'w'))\n",
    "       for frootname in l]"
   ]
  },
  {
   "cell_type": "code",
   "execution_count": null,
   "metadata": {
    "collapsed": true
   },
   "outputs": [],
   "source": [
    "# observe data\n",
    "from skimage import data, io, filters\n",
    "import matplotlib.pyplot as plt\n",
    "import numpy as np\n",
    "\n",
    "frootname = dirname+\"001_01_01_130_05_lm_20\"\n",
    "pts = read_pts(frootname+\".pts\")\n",
    "image = io.imread(frootname+\".png\")\n",
    "io.imshow(image)\n",
    "plt.plot(pts[:,0], pts[:,1], 'o')\n",
    "for i, (x, y) in enumerate(pts) :\n",
    "    plt.text(x, y, str(int(i)))\n",
    "io.show()"
   ]
  }
 ],
 "metadata": {
  "kernelspec": {
   "display_name": "Python 3",
   "language": "python",
   "name": "python3"
  },
  "language_info": {
   "codemirror_mode": {
    "name": "ipython",
    "version": 3
   },
   "file_extension": ".py",
   "mimetype": "text/x-python",
   "name": "python",
   "nbconvert_exporter": "python",
   "pygments_lexer": "ipython3",
   "version": "3.4.4"
  }
 },
 "nbformat": 4,
 "nbformat_minor": 0
}
