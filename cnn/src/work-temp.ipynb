{
 "cells": [
  {
   "cell_type": "code",
   "execution_count": 35,
   "metadata": {
    "collapsed": true
   },
   "outputs": [],
   "source": [
    "import numpy as np\n",
    "import face_data as fd\n",
    "import logging\n",
    "\n",
    "logging.basicConfig(level=logging.INFO)"
   ]
  },
  {
   "cell_type": "code",
   "execution_count": 51,
   "metadata": {
    "collapsed": false
   },
   "outputs": [
    {
     "name": "stdout",
     "output_type": "stream",
     "text": [
      "Test score: 1.2386915103\n",
      "Test accuracy: 0.362773266474\n"
     ]
    }
   ],
   "source": [
    "import numpy as np\n",
    "np.random.seed(1337)  # for reproducibility\n",
    "\n",
    "from keras.models import Model\n",
    "from keras.layers import Input, Dense, Dropout, Activation, Flatten, Reshape, merge, RepeatVector\n",
    "from keras.layers.convolutional import Convolution2D, MaxPooling2D\n",
    "\n",
    "\n",
    "batch_size = 10\n",
    "nb_landmarks = 5\n",
    "nb_epoch = 500\n",
    "#nb_validation_data = (X_test, _Y_test)\n",
    "nb_validation_data = None\n",
    "\n",
    "nb_submodels = 3\n",
    "\n",
    "# input image dimensions\n",
    "img_chns, img_rows, img_cols = 3, 20, 20\n",
    "# number of convolutional filters to use\n",
    "nb_filters = [32, 64]\n",
    "# size of pooling area for max pooling\n",
    "nb_pool_sizes = [(2, 2), (2, 2)]\n",
    "# convolution kernel size\n",
    "nb_conv = 3\n",
    "# activator\n",
    "nb_activator = 'tanh'\n",
    "# number of fully connected neurons in the penultimate layer\n",
    "nb_penu_neurons = 128\n",
    "# size of output vector, four \"corner values\" for each landmark\n",
    "nb_output_size = nb_landmarks * 4\n",
    "\n",
    "input_img = Input(shape=(img_chns, img_rows, img_cols), dtype='float32', name='input_img')\n",
    "\n",
    "def gen_cnn(x) :\n",
    "    x = (Convolution2D(nb_filters[0], nb_conv, nb_conv))(x)\n",
    "    x = (Activation(nb_activator))(x)\n",
    "    x = (MaxPooling2D(pool_size=nb_pool_sizes[0]))(x)\n",
    "    x = (Convolution2D(nb_filters[1], nb_conv, nb_conv))(x)\n",
    "    x = (Activation(nb_activator))(x)\n",
    "    x = (MaxPooling2D(pool_size=nb_pool_sizes[1]))(x)\n",
    "    x = (Dropout(0.25))(x)\n",
    "    x = (Flatten())(x)\n",
    "    return x\n",
    "def gen_nn_mask(x) :\n",
    "    x = Dense(img_rows * img_cols)(x)\n",
    "    x = Activation('sigmoid')(x)\n",
    "    x = Reshape((img_rows, img_cols))(x)\n",
    "    return x\n",
    "\n",
    "mask_cnn = gen_cnn(input_img)\n",
    "x = (Dense(nb_penu_neurons))(mask_cnn)\n",
    "x = (Activation(nb_activator))(x)\n",
    "x = (Dropout(0.5))(x)\n",
    "\n",
    "mask = gen_nn_mask(x)\n",
    "masked_img = merge([input_img, \n",
    "                      Reshape((img_chns, img_rows, img_cols))(RepeatVector(3)(Flatten()(mask)))], \n",
    "                     mode='mul')\n",
    "\n",
    "shared_cnn = Model(input=input_img, output=gen_cnn(input_img))\n",
    "sub_output = shared_cnn(masked_img)\n",
    "#sub_output = merge(sub_outputs, mode='concat')\n",
    "\n",
    "x = (Dense(128))(sub_output)\n",
    "x = (Activation(nb_activator))(x)\n",
    "x = (Dropout(0.5))(x)\n",
    "x = (Dense(nb_landmarks * 4))(x)\n",
    "output_landmarks = Reshape((nb_landmarks, 4))(x)\n",
    "\n",
    "model = Model(input=input_img, output=output_landmarks)\n",
    "\n",
    "model.compile(loss='categorical_crossentropy',\n",
    "              optimizer='adadelta',\n",
    "              metrics=['accuracy'])\n",
    "\n",
    "model.fit(X_train, Y_train, batch_size=batch_size, nb_epoch=nb_epoch,\n",
    "          verbose=0, validation_data=nb_validation_data)\n",
    "\n",
    "score = model.evaluate(X_test, Y_test, verbose=0)\n",
    "print('Test score:', score[0])\n",
    "print('Test accuracy:', score[1])\n",
    "\n",
    "\n"
   ]
  },
  {
   "cell_type": "code",
   "execution_count": 16,
   "metadata": {
    "collapsed": false
   },
   "outputs": [],
   "source": [
    "# save model\n",
    "def save_model(model_filename) :\n",
    "    print(model.to_json(), file=open(model_filename+'.json', 'w'))\n",
    "    model.save_weights(model_filename+'.weight')"
   ]
  },
  {
   "cell_type": "code",
   "execution_count": 52,
   "metadata": {
    "collapsed": true
   },
   "outputs": [],
   "source": [
    "save_model('../model/all(ratio-0.8,rand-1337),corner128,single-mask_single,20px,500ep')"
   ]
  },
  {
   "cell_type": "code",
   "execution_count": 53,
   "metadata": {
    "collapsed": false
   },
   "outputs": [],
   "source": [
    "Y_pred = model.predict(X_test)\n",
    "_Y_pred = fd.pointwise(Y_pred, fd.corners_to_coord)"
   ]
  },
  {
   "cell_type": "code",
   "execution_count": 55,
   "metadata": {
    "collapsed": false
   },
   "outputs": [],
   "source": [
    "# observe learning results\n",
    "import random\n",
    "random.seed(1337)\n",
    "l = list(random.sample(range(len(Y_test)), 30))\n",
    "plt.figure()\n",
    "for iplt, i in enumerate(l) :\n",
    "    plt.subplot(5, 6, iplt+1)\n",
    "    img = X_test[i].transpose((1,2,0))\n",
    "    io.imshow(img)\n",
    "    pts2 = _Y_test[i]\n",
    "    plt.plot(pts2[:,0]*img_rows, pts2[:,1]*img_cols, 'o')\n",
    "    pts = _Y_pred[i]\n",
    "    plt.plot(pts[:,0]*img_rows, pts[:,1]*img_cols, 'ro')\n",
    "    plt.axis('off')\n",
    "plt.tight_layout()\n",
    "io.show()"
   ]
  },
  {
   "cell_type": "code",
   "execution_count": 45,
   "metadata": {
    "collapsed": false
   },
   "outputs": [
    {
     "name": "stdout",
     "output_type": "stream",
     "text": [
      "X shape: (8003, 3, 20, 20)\n",
      "Y shape: (8003, 5, 2)\n",
      "X_train shape: (6402, 3, 20, 20)\n",
      "Y_train shape: (6402, 5, 2)\n",
      "6402 train samples\n",
      "1601 test samples\n"
     ]
    }
   ],
   "source": [
    "# load data\n",
    "logging.info(\"loading data from: \" + \" \".join(fd.subdirs))\n",
    "X, Y = fd.data('../../../result_20/', fd.subdirs)\n",
    "(X_train, Y_train), (X_test, Y_test) = fd.split_data(X, Y, ratio_train=0.8, rand_seed=1337)\n",
    "(_X_train, _Y_train), (_X_test, _Y_test) = (X_train, Y_train), (X_test, Y_test)"
   ]
  },
  {
   "cell_type": "code",
   "execution_count": 48,
   "metadata": {
    "collapsed": false
   },
   "outputs": [
    {
     "name": "stdout",
     "output_type": "stream",
     "text": [
      "Y_train shape: (6402, 5, 4)\n",
      "Y_test shape: (1601, 5, 4)\n"
     ]
    }
   ],
   "source": [
    "Y_train = fd.pointwise(_Y_train, fd.coord_to_corners)\n",
    "Y_test = fd.pointwise(_Y_test, fd.coord_to_corners)\n",
    "print(\"Y_train shape:\", Y_train.shape)\n",
    "print(\"Y_test shape:\", Y_test.shape)"
   ]
  },
  {
   "cell_type": "code",
   "execution_count": null,
   "metadata": {
    "collapsed": true
   },
   "outputs": [],
   "source": []
  }
 ],
 "metadata": {
  "kernelspec": {
   "display_name": "Python 3",
   "language": "python",
   "name": "python3"
  },
  "language_info": {
   "codemirror_mode": {
    "name": "ipython",
    "version": 3
   },
   "file_extension": ".py",
   "mimetype": "text/x-python",
   "name": "python",
   "nbconvert_exporter": "python",
   "pygments_lexer": "ipython3",
   "version": "3.4.4"
  }
 },
 "nbformat": 4,
 "nbformat_minor": 0
}
